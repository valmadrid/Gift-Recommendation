{
 "cells": [
  {
   "cell_type": "code",
   "execution_count": 1,
   "metadata": {},
   "outputs": [],
   "source": [
    "from bs4 import BeautifulSoup\n",
    "from random import randint, shuffle\n",
    "from time import sleep\n",
    "import re\n",
    "import pandas as pd\n",
    "import json\n",
    "import math\n",
    "import requests\n",
    "from selenium import webdriver\n",
    "from selenium.webdriver.common.keys import Keys\n",
    "import os\n",
    "from tqdm import tqdm_notebook as tqdm\n",
    "import shutil\n",
    "import numpy as np\n",
    "import pandas_profiling\n",
    "import datetime\n",
    "\n",
    "%matplotlib inline\n",
    "import matplotlib.pyplot as plt\n",
    "import seaborn as sns\n",
    "sns.set_style(\"white\")\n",
    "sns.set_context(\"paper\", font_scale=1.8)\n",
    "sns.set_palette(\"GnBu_d\")\n",
    "\n",
    "pd.set_option(\"display.max_columns\", None)\n",
    "pd.set_option(\"display.max_colwidth\", -1)\n",
    "pd.set_option(\"display.float_format\", \"{:,.2f}\".format)\n",
    "pd.set_option(\"display.max_info_rows\", 200)"
   ]
  },
  {
   "cell_type": "code",
   "execution_count": 2,
   "metadata": {},
   "outputs": [],
   "source": [
    "import sephora_scrape as scrape\n",
    "%reload_ext autoreload\n",
    "%autoreload 2"
   ]
  },
  {
   "cell_type": "code",
   "execution_count": 2,
   "metadata": {},
   "outputs": [],
   "source": [
    "import pymongo\n",
    "\n",
    "myclient = pymongo.MongoClient(\"mongodb://127.0.0.1:27017/\")\n",
    "db = myclient[\"Sephora\"]\n",
    "c = db[\"Sephora_Reviews\"]"
   ]
  },
  {
   "cell_type": "code",
   "execution_count": null,
   "metadata": {},
   "outputs": [],
   "source": [
    "reviews_folder = \"/Users/valmadrid/DataScienceBootcamp/Projects/Gift Recommendation/Gift-Recommendation/reviews/\"\n",
    "if not os.path.exists(reviews_folder):\n",
    "    print(\"check file path\")"
   ]
  },
  {
   "cell_type": "code",
   "execution_count": null,
   "metadata": {
    "scrolled": true
   },
   "outputs": [],
   "source": [
    "downloaded_json_reviews = [\n",
    "    file for file in os.listdir(reviews_folder)\n",
    "    if (not file.endswith(\"_stats.json\")) and (file.endswith(\".json\"))\n",
    "]\n",
    "downloaded_json_reviews.sort()\n",
    "len(downloaded_json_reviews), downloaded_json_reviews[:10]"
   ]
  },
  {
   "cell_type": "code",
   "execution_count": null,
   "metadata": {},
   "outputs": [],
   "source": [
    "class MongoHandler():\n",
    "    \n",
    "    def __init__(self, row_dict = None, collection = None):\n",
    "        myclient = pymongo.MongoClient(\"mongodb://127.0.0.1:27017/\")\n",
    "        db = myclient[\"Sephora\"] \n",
    "        self.table = row_dict\n",
    "        \n",
    "        c = db[collection]\n",
    "        c.insert_many(self.table)"
   ]
  },
  {
   "cell_type": "code",
   "execution_count": null,
   "metadata": {
    "scrolled": false
   },
   "outputs": [],
   "source": [
    "no_reviews = []\n",
    "\n",
    "for filename in tqdm(downloaded_json_reviews):\n",
    "    product_id = filename.split(\"_\")[0]\n",
    "\n",
    "    with open(reviews_folder + filename) as json_file:\n",
    "        reviews_data = json.load(json_file)\n",
    "\n",
    "    if reviews_data[\"TotalResults\"] == 0 or reviews_data[\"HasErrors\"] == True:\n",
    "        no_reviews.append(filename)\n",
    "        continue\n",
    "\n",
    "    else:\n",
    "        review_list = reviews_data[\"Results\"]\n",
    "        for rev in review_list:\n",
    "            rev[\"product_id\"] = product_id\n",
    "        MongoHandler(review_list, \"Sephora_Reviews\")\n",
    "#         df_reviews = df_reviews.append(pd.DataFrame(review_list_cleaned),\n",
    "#                                                    ignore_index=True)\n",
    "#         review_list, review_list_cleaned = [], []\n",
    "#         df_reviews.to_csv(\"test_all_reviews.csv\", index=False)\n",
    "    reviews_data = {}"
   ]
  },
  {
   "cell_type": "code",
   "execution_count": null,
   "metadata": {},
   "outputs": [],
   "source": [
    "for i in [3]:\n",
    "    cursor = c.find({\"$and\":[{\"Rating\": {\"$gte\": i}, \"BadgesOrder\": {\"$ne\": \"[]\"}}]})\n",
    "    reviews = pd.DataFrame(cursor)\n",
    "    reviews.to_csv(\"all_reviews2_\"+str(i)+\".csv\")\n",
    "#     reviews = pd.DataFrame()"
   ]
  },
  {
   "cell_type": "code",
   "execution_count": null,
   "metadata": {},
   "outputs": [],
   "source": [
    "reviews"
   ]
  },
  {
   "cell_type": "code",
   "execution_count": 4,
   "metadata": {},
   "outputs": [
    {
     "name": "stderr",
     "output_type": "stream",
     "text": [
      "/Applications/anaconda3/envs/learn-env/lib/python3.6/site-packages/IPython/core/interactiveshell.py:3058: DtypeWarning: Columns (25) have mixed types. Specify dtype option on import or set low_memory=False.\n",
      "  interactivity=interactivity, compiler=compiler, result=result)\n"
     ]
    }
   ],
   "source": [
    "reviews_r = pd.read_csv(\"/Users/valmadrid/DataScienceBootcamp/Projects/Gift Recommendation/Gift-Recommendation/all_reviews_3.csv\")"
   ]
  },
  {
   "cell_type": "code",
   "execution_count": 12,
   "metadata": {},
   "outputs": [],
   "source": [
    "del reviews_r"
   ]
  },
  {
   "cell_type": "code",
   "execution_count": null,
   "metadata": {
    "scrolled": false
   },
   "outputs": [],
   "source": [
    "reviews_r = pd.read_csv(\"all_reviews_3.csv\")\n",
    "reviews_r.SubmissionTime = pd.to_datetime(reviews_r.SubmissionTime,\n",
    "                                          format=\"%Y-%m-%d\")\n",
    "reviews = reviews.append(\n",
    "    reviews_r[(reviews_r.SubmissionTime > datetime.strptime(\n",
    "        \"2018-06-25 23:59:59+0000\", \"%Y-%m-%d %H:%M:%S%z\"))\n",
    "              & (reviews_r.IsRecommended == True)].copy(),\n",
    "    ignore_index=True,\n",
    "    sort=False)\n",
    "reviews\n",
    "del reviews_r\n",
    "reviews.shape"
   ]
  },
  {
   "cell_type": "code",
   "execution_count": null,
   "metadata": {},
   "outputs": [],
   "source": [
    "reviews_r = pd.read_csv(\"all_reviews_4.csv\")\n",
    "reviews_r.SubmissionTime = pd.to_datetime(reviews_r.SubmissionTime,\n",
    "                                          format=\"%Y-%m-%d\")\n",
    "reviews = reviews.append(\n",
    "    reviews_r[(reviews_r.SubmissionTime > datetime.strptime(\n",
    "        \"2018-06-25 23:59:59+0000\", \"%Y-%m-%d %H:%M:%S%z\"))\n",
    "              & (reviews_r.IsRecommended == True)].copy(),\n",
    "    ignore_index=True,\n",
    "    sort=False)\n",
    "reviews\n",
    "del reviews_r\n",
    "reviews.shape"
   ]
  },
  {
   "cell_type": "code",
   "execution_count": null,
   "metadata": {
    "scrolled": true
   },
   "outputs": [],
   "source": [
    "reviews_r = pd.read_csv(\"all_reviews_5.csv\")\n",
    "reviews_r.SubmissionTime = pd.to_datetime(reviews_r.SubmissionTime,\n",
    "                                          format=\"%Y-%m-%d\")\n",
    "reviews = reviews.append(\n",
    "    reviews_r[(reviews_r.SubmissionTime > datetime.strptime(\n",
    "        \"2018-06-25 23:59:59+0000\", \"%Y-%m-%d %H:%M:%S%z\"))\n",
    "              & (reviews_r.IsRecommended == True)].copy(),\n",
    "    ignore_index=True,\n",
    "    sort=False)\n",
    "reviews\n",
    "del reviews_r\n",
    "reviews.shape"
   ]
  },
  {
   "cell_type": "code",
   "execution_count": null,
   "metadata": {
    "scrolled": true
   },
   "outputs": [],
   "source": [
    "reviews.columns"
   ]
  },
  {
   "cell_type": "code",
   "execution_count": null,
   "metadata": {},
   "outputs": [],
   "source": [
    "reviews.iloc[0].T"
   ]
  },
  {
   "cell_type": "code",
   "execution_count": null,
   "metadata": {},
   "outputs": [],
   "source": [
    "reviews[reviews.duplicated(subset=[\"AuthorId\", \"product_id\", \"ProductId\"],\n",
    "                           keep=False)].sort_values(\n",
    "                               [\"AuthorId\", \"product_id\", \"SubmissionTime\"],\n",
    "                               ascending=False)[[\n",
    "                                   \"AuthorId\",\"UserNickname\", \"product_id\",\"ProductId\", \"SubmissionTime\",\n",
    "                                   \"Rating\", \"Id\", \"ReviewText\", \"_id\"\n",
    "                               ]]"
   ]
  },
  {
   "cell_type": "code",
   "execution_count": null,
   "metadata": {},
   "outputs": [],
   "source": [
    "reviews.sort_values([\"AuthorId\", \"product_id\", \"SubmissionTime\"],\n",
    "                               ascending=False).reset_index(drop=True, inplace=True)"
   ]
  },
  {
   "cell_type": "code",
   "execution_count": null,
   "metadata": {},
   "outputs": [],
   "source": [
    "reviews.drop_duplicates(subset=[\"AuthorId\", \"product_id\"], keep=\"first\", inplace=True)\n",
    "reviews.shape"
   ]
  },
  {
   "cell_type": "code",
   "execution_count": null,
   "metadata": {},
   "outputs": [],
   "source": [
    "reviews.to_csv(\"selected_reviews.csv\", index=False)"
   ]
  },
  {
   "cell_type": "code",
   "execution_count": 2,
   "metadata": {
    "scrolled": false
   },
   "outputs": [
    {
     "name": "stderr",
     "output_type": "stream",
     "text": [
      "/Applications/anaconda3/envs/learn-env/lib/python3.6/site-packages/IPython/core/interactiveshell.py:3058: DtypeWarning: Columns (2) have mixed types. Specify dtype option on import or set low_memory=False.\n",
      "  interactivity=interactivity, compiler=compiler, result=result)\n"
     ]
    },
    {
     "data": {
      "text/plain": [
       "(1011375, 44)"
      ]
     },
     "execution_count": 2,
     "metadata": {},
     "output_type": "execute_result"
    }
   ],
   "source": [
    "reviews = pd.read_csv(\n",
    "    \"/Users/valmadrid/DataScienceBootcamp/Projects/Gift Recommendation/Gift-Recommendation/all_reviews.csv\"\n",
    ")\n",
    "reviews.shape"
   ]
  },
  {
   "cell_type": "code",
   "execution_count": 7,
   "metadata": {},
   "outputs": [],
   "source": [
    "reviews[reviews.Badges.str.contains(\"VerifiedPurchaser\", na=False)][[\"Id\"]].to_csv(\"verified_reviews.csv\",  index=False)"
   ]
  },
  {
   "cell_type": "code",
   "execution_count": 6,
   "metadata": {},
   "outputs": [
    {
     "data": {
      "text/plain": [
       "'2015-06-25T16:17:26.000+00:00'"
      ]
     },
     "execution_count": 6,
     "metadata": {},
     "output_type": "execute_result"
    }
   ],
   "source": [
    "reviews.SubmissionTime.min()"
   ]
  },
  {
   "cell_type": "code",
   "execution_count": 4,
   "metadata": {
    "scrolled": true
   },
   "outputs": [
    {
     "name": "stdout",
     "output_type": "stream",
     "text": [
      "<class 'pandas.core.frame.DataFrame'>\n",
      "RangeIndex: 939049 entries, 0 to 939048\n",
      "Data columns (total 13 columns):\n",
      "product_id                    939049 non-null object\n",
      "AuthorId                      939049 non-null object\n",
      "SubmissionTime                939049 non-null object\n",
      "Id                            939049 non-null int64\n",
      "Rating                        939049 non-null int64\n",
      "Helpfulness                   312655 non-null float64\n",
      "TotalFeedbackCount            939049 non-null int64\n",
      "TotalPositiveFeedbackCount    939049 non-null int64\n",
      "TotalNegativeFeedbackCount    939049 non-null int64\n",
      "TotalCommentCount             939049 non-null int64\n",
      "Title                         626091 non-null object\n",
      "ReviewText                    933305 non-null object\n",
      "ContextDataValues             939049 non-null object\n",
      "dtypes: float64(1), int64(6), object(6)\n",
      "memory usage: 93.1+ MB\n"
     ]
    }
   ],
   "source": [
    "reviews_short = reviews[[\n",
    "    \"product_id\", \"AuthorId\", \"SubmissionTime\", \"Id\", \"Rating\", \"Helpfulness\",\n",
    "    \"TotalFeedbackCount\", \"TotalPositiveFeedbackCount\",\n",
    "    \"TotalNegativeFeedbackCount\", \"TotalCommentCount\", \"Title\", \"ReviewText\", \"ContextDataValues\"\n",
    "]].copy()\n",
    "reviews_short.info(null_counts=True)"
   ]
  },
  {
   "cell_type": "code",
   "execution_count": 5,
   "metadata": {},
   "outputs": [],
   "source": [
    "del reviews"
   ]
  },
  {
   "cell_type": "code",
   "execution_count": 6,
   "metadata": {
    "scrolled": true
   },
   "outputs": [
    {
     "data": {
      "text/html": [
       "<div>\n",
       "<style scoped>\n",
       "    .dataframe tbody tr th:only-of-type {\n",
       "        vertical-align: middle;\n",
       "    }\n",
       "\n",
       "    .dataframe tbody tr th {\n",
       "        vertical-align: top;\n",
       "    }\n",
       "\n",
       "    .dataframe thead th {\n",
       "        text-align: right;\n",
       "    }\n",
       "</style>\n",
       "<table border=\"1\" class=\"dataframe\">\n",
       "  <thead>\n",
       "    <tr style=\"text-align: right;\">\n",
       "      <th></th>\n",
       "      <th>product_id</th>\n",
       "      <th>author_id</th>\n",
       "      <th>date</th>\n",
       "      <th>review_id</th>\n",
       "      <th>rating</th>\n",
       "      <th>helpfulness</th>\n",
       "      <th>feedback_count</th>\n",
       "      <th>positive_feedback</th>\n",
       "      <th>negative_feedback</th>\n",
       "      <th>comment_count</th>\n",
       "      <th>review_title</th>\n",
       "      <th>review_text</th>\n",
       "      <th>context</th>\n",
       "    </tr>\n",
       "  </thead>\n",
       "  <tbody>\n",
       "    <tr>\n",
       "      <td>0</td>\n",
       "      <td>P0417</td>\n",
       "      <td>5869746961</td>\n",
       "      <td>2019-09-14 17:16:59+00:00</td>\n",
       "      <td>135835739</td>\n",
       "      <td>3</td>\n",
       "      <td>0.67</td>\n",
       "      <td>3</td>\n",
       "      <td>2</td>\n",
       "      <td>1</td>\n",
       "      <td>0</td>\n",
       "      <td>NaN</td>\n",
       "      <td>It doesn't help with blackheads at all, but it does with whiteheads. It is okay</td>\n",
       "      <td>{'skinType': {'Value': 'combination', 'Id': 'skinType', 'ValueLabel': 'Combination', 'DimensionLabel': 'Skin Type'}, 'eyeColor': {'Value': 'green', 'Id': 'eyeColor', 'ValueLabel': 'Green', 'DimensionLabel': 'Eye Color'}, 'skinConcerns': {'Value': 'acne', 'Id': 'skinConcerns', 'ValueLabel': 'Acne', 'DimensionLabel': 'Skin concerns'}, 'StaffContext': {'Value': 'false', 'Id': 'StaffContext', 'ValueLabel': 'No', 'DimensionLabel': 'I am a Sephora employee'}, 'hairColor': {'Value': 'brunette', 'Id': 'hairColor', 'ValueLabel': 'Brunette', 'DimensionLabel': 'Hair color'}, 'skinTone': {'Value': 'light', 'Id': 'skinTone', 'ValueLabel': 'Light', 'DimensionLabel': 'Skin Tone'}, 'IncentivizedReview': {'Value': 'false', 'Id': 'IncentivizedReview', 'ValueLabel': 'False', 'DimensionLabel': 'I received this product as a free sample'}}</td>\n",
       "    </tr>\n",
       "    <tr>\n",
       "      <td>1</td>\n",
       "      <td>P0417</td>\n",
       "      <td>22189528930</td>\n",
       "      <td>2019-07-07 17:48:13+00:00</td>\n",
       "      <td>130283148</td>\n",
       "      <td>3</td>\n",
       "      <td>1.00</td>\n",
       "      <td>5</td>\n",
       "      <td>5</td>\n",
       "      <td>0</td>\n",
       "      <td>0</td>\n",
       "      <td>NaN</td>\n",
       "      <td>Be careful using this, it does extract pimples but only if they are at a head and ready to pop. Otherwise the harder you push to bring it out marks your skin. It’s better than using your nails and bruising your skin on stubborn pimples but still can damage your skin. The black head extractor does work fantastic, brings out the really stubborn black heads but then again also damages your skin if your press too hard. Trail and error learning how hard to press before making marks.</td>\n",
       "      <td>{'skinType': {'Value': 'combination', 'Id': 'skinType', 'ValueLabel': 'Combination', 'DimensionLabel': 'Skin Type'}, 'eyeColor': {'Value': 'blue', 'Id': 'eyeColor', 'ValueLabel': 'Blue', 'DimensionLabel': 'Eye Color'}, 'skinConcerns': {'Value': 'acne', 'Id': 'skinConcerns', 'ValueLabel': 'Acne', 'DimensionLabel': 'Skin concerns'}, 'StaffContext': {'Value': 'false', 'Id': 'StaffContext', 'ValueLabel': 'No', 'DimensionLabel': 'I am a Sephora employee'}, 'hairColor': {'Value': 'black', 'Id': 'hairColor', 'ValueLabel': 'Black', 'DimensionLabel': 'Hair color'}, 'skinTone': {'Value': 'medium', 'Id': 'skinTone', 'ValueLabel': 'Medium', 'DimensionLabel': 'Skin Tone'}, 'IncentivizedReview': {'Value': 'false', 'Id': 'IncentivizedReview', 'ValueLabel': 'False', 'DimensionLabel': 'I received this product as a free sample'}}</td>\n",
       "    </tr>\n",
       "    <tr>\n",
       "      <td>2</td>\n",
       "      <td>P0417</td>\n",
       "      <td>5641704837</td>\n",
       "      <td>2018-09-15 16:34:33+00:00</td>\n",
       "      <td>118730320</td>\n",
       "      <td>3</td>\n",
       "      <td>nan</td>\n",
       "      <td>0</td>\n",
       "      <td>0</td>\n",
       "      <td>0</td>\n",
       "      <td>0</td>\n",
       "      <td>NaN</td>\n",
       "      <td>It works but I think it’s not as gentle as I would like. It can still cause trauma on your skin. So be gentle! Better than using your fingers.</td>\n",
       "      <td>{'skinType': {'Value': 'combination', 'Id': 'skinType', 'ValueLabel': 'Combination', 'DimensionLabel': 'Skin Type'}, 'eyeColor': {'Value': 'blue', 'Id': 'eyeColor', 'ValueLabel': 'Blue', 'DimensionLabel': 'Eye Color'}, 'skinConcerns': {'Value': 'acne', 'Id': 'skinConcerns', 'ValueLabel': 'Acne', 'DimensionLabel': 'Skin concerns'}, 'hairColor': {'Value': 'red', 'Id': 'hairColor', 'ValueLabel': 'Red', 'DimensionLabel': 'Hair color'}, 'skinTone': {'Value': 'fair', 'Id': 'skinTone', 'ValueLabel': 'Fair', 'DimensionLabel': 'Skin Tone'}}</td>\n",
       "    </tr>\n",
       "    <tr>\n",
       "      <td>3</td>\n",
       "      <td>P04546871</td>\n",
       "      <td>22081371793</td>\n",
       "      <td>2020-05-17 18:17:18+00:00</td>\n",
       "      <td>156485522</td>\n",
       "      <td>3</td>\n",
       "      <td>1.00</td>\n",
       "      <td>3</td>\n",
       "      <td>3</td>\n",
       "      <td>0</td>\n",
       "      <td>0</td>\n",
       "      <td>She’s cute, glitter will get on your clothing</td>\n",
       "      <td>Bought this on sale and used it for a shoot at home. It’s super cute and feels very nice with amazing sparkle pay off in the light. Highly recommend using a body brush for this just to avoid it being clustered in your hands. The glitter will get on everything you touch your skin on as a heads up. Great for warm outings to amp your look.</td>\n",
       "      <td>{'skinType': {'Value': 'combination', 'Id': 'skinType', 'ValueLabel': 'Combination', 'DimensionLabel': 'Skin Type'}, 'eyeColor': {'Value': 'brown', 'Id': 'eyeColor', 'ValueLabel': 'Brown', 'DimensionLabel': 'Eye Color'}, 'skinConcerns': {'Value': 'acne', 'Id': 'skinConcerns', 'ValueLabel': 'Acne', 'DimensionLabel': 'Skin concerns'}, 'StaffContext': {'Value': 'false', 'Id': 'StaffContext', 'ValueLabel': 'No', 'DimensionLabel': 'I am a Sephora employee'}, 'hairColor': {'Value': 'brunette', 'Id': 'hairColor', 'ValueLabel': 'Brunette', 'DimensionLabel': 'Hair color'}, 'skinTone': {'Value': 'medium', 'Id': 'skinTone', 'ValueLabel': 'Medium', 'DimensionLabel': 'Skin Tone'}, 'IncentivizedReview': {'Value': 'false', 'Id': 'IncentivizedReview', 'ValueLabel': 'False', 'DimensionLabel': 'I received this product as a free sample'}}</td>\n",
       "    </tr>\n",
       "    <tr>\n",
       "      <td>4</td>\n",
       "      <td>P04546871</td>\n",
       "      <td>1440172327</td>\n",
       "      <td>2019-11-12 01:50:25+00:00</td>\n",
       "      <td>138255643</td>\n",
       "      <td>3</td>\n",
       "      <td>nan</td>\n",
       "      <td>0</td>\n",
       "      <td>0</td>\n",
       "      <td>0</td>\n",
       "      <td>0</td>\n",
       "      <td>Beautiful but Sticky</td>\n",
       "      <td>The pay off the glitter is absolutely beautiful but it’s sticky. That is why I didn’t give this 4 stars.</td>\n",
       "      <td>{'skinType': {'Value': 'combination', 'Id': 'skinType', 'ValueLabel': 'Combination', 'DimensionLabel': 'Skin Type'}, 'eyeColor': {'Value': 'brown', 'Id': 'eyeColor', 'ValueLabel': 'Brown', 'DimensionLabel': 'Eye Color'}, 'skinConcerns': {'Value': 'aging', 'Id': 'skinConcerns', 'ValueLabel': 'Aging', 'DimensionLabel': 'Skin concerns'}, 'StaffContext': {'Value': 'false', 'Id': 'StaffContext', 'ValueLabel': 'No', 'DimensionLabel': 'I am a Sephora employee'}, 'hairColor': {'Value': 'blonde', 'Id': 'hairColor', 'ValueLabel': 'Blonde', 'DimensionLabel': 'Hair color'}, 'skinTone': {'Value': 'light', 'Id': 'skinTone', 'ValueLabel': 'Light', 'DimensionLabel': 'Skin Tone'}, 'IncentivizedReview': {'Value': 'false', 'Id': 'IncentivizedReview', 'ValueLabel': 'False', 'DimensionLabel': 'I received this product as a free sample'}}</td>\n",
       "    </tr>\n",
       "  </tbody>\n",
       "</table>\n",
       "</div>"
      ],
      "text/plain": [
       "  product_id    author_id                       date  review_id  rating  \\\n",
       "0  P0417      5869746961   2019-09-14 17:16:59+00:00  135835739  3        \n",
       "1  P0417      22189528930  2019-07-07 17:48:13+00:00  130283148  3        \n",
       "2  P0417      5641704837   2018-09-15 16:34:33+00:00  118730320  3        \n",
       "3  P04546871  22081371793  2020-05-17 18:17:18+00:00  156485522  3        \n",
       "4  P04546871  1440172327   2019-11-12 01:50:25+00:00  138255643  3        \n",
       "\n",
       "   helpfulness  feedback_count  positive_feedback  negative_feedback  \\\n",
       "0 0.67          3               2                  1                   \n",
       "1 1.00          5               5                  0                   \n",
       "2 nan           0               0                  0                   \n",
       "3 1.00          3               3                  0                   \n",
       "4 nan           0               0                  0                   \n",
       "\n",
       "   comment_count                                   review_title  \\\n",
       "0  0              NaN                                             \n",
       "1  0              NaN                                             \n",
       "2  0              NaN                                             \n",
       "3  0              She’s cute, glitter will get on your clothing   \n",
       "4  0              Beautiful but Sticky                            \n",
       "\n",
       "                                                                                                                                                                                                                                                                                                                                                                                                                                                                                          review_text  \\\n",
       "0  It doesn't help with blackheads at all, but it does with whiteheads. It is okay                                                                                                                                                                                                                                                                                                                                                                                                                      \n",
       "1  Be careful using this, it does extract pimples but only if they are at a head and ready to pop. Otherwise the harder you push to bring it out marks your skin. It’s better than using your nails and bruising your skin on stubborn pimples but still can damage your skin. The black head extractor does work fantastic, brings out the really stubborn black heads but then again also damages your skin if your press too hard. Trail and error learning how hard to press before making marks.   \n",
       "2  It works but I think it’s not as gentle as I would like. It can still cause trauma on your skin. So be gentle! Better than using your fingers.                                                                                                                                                                                                                                                                                                                                                       \n",
       "3  Bought this on sale and used it for a shoot at home. It’s super cute and feels very nice with amazing sparkle pay off in the light. Highly recommend using a body brush for this just to avoid it being clustered in your hands. The glitter will get on everything you touch your skin on as a heads up. Great for warm outings to amp your look.                                                                                                                                                   \n",
       "4  The pay off the glitter is absolutely beautiful but it’s sticky. That is why I didn’t give this 4 stars.                                                                                                                                                                                                                                                                                                                                                                                             \n",
       "\n",
       "                                                                                                                                                                                                                                                                                                                                                                                                                                                                                                                                                                                                                                                                                                                                                                                                                                                           context  \n",
       "0  {'skinType': {'Value': 'combination', 'Id': 'skinType', 'ValueLabel': 'Combination', 'DimensionLabel': 'Skin Type'}, 'eyeColor': {'Value': 'green', 'Id': 'eyeColor', 'ValueLabel': 'Green', 'DimensionLabel': 'Eye Color'}, 'skinConcerns': {'Value': 'acne', 'Id': 'skinConcerns', 'ValueLabel': 'Acne', 'DimensionLabel': 'Skin concerns'}, 'StaffContext': {'Value': 'false', 'Id': 'StaffContext', 'ValueLabel': 'No', 'DimensionLabel': 'I am a Sephora employee'}, 'hairColor': {'Value': 'brunette', 'Id': 'hairColor', 'ValueLabel': 'Brunette', 'DimensionLabel': 'Hair color'}, 'skinTone': {'Value': 'light', 'Id': 'skinTone', 'ValueLabel': 'Light', 'DimensionLabel': 'Skin Tone'}, 'IncentivizedReview': {'Value': 'false', 'Id': 'IncentivizedReview', 'ValueLabel': 'False', 'DimensionLabel': 'I received this product as a free sample'}}    \n",
       "1  {'skinType': {'Value': 'combination', 'Id': 'skinType', 'ValueLabel': 'Combination', 'DimensionLabel': 'Skin Type'}, 'eyeColor': {'Value': 'blue', 'Id': 'eyeColor', 'ValueLabel': 'Blue', 'DimensionLabel': 'Eye Color'}, 'skinConcerns': {'Value': 'acne', 'Id': 'skinConcerns', 'ValueLabel': 'Acne', 'DimensionLabel': 'Skin concerns'}, 'StaffContext': {'Value': 'false', 'Id': 'StaffContext', 'ValueLabel': 'No', 'DimensionLabel': 'I am a Sephora employee'}, 'hairColor': {'Value': 'black', 'Id': 'hairColor', 'ValueLabel': 'Black', 'DimensionLabel': 'Hair color'}, 'skinTone': {'Value': 'medium', 'Id': 'skinTone', 'ValueLabel': 'Medium', 'DimensionLabel': 'Skin Tone'}, 'IncentivizedReview': {'Value': 'false', 'Id': 'IncentivizedReview', 'ValueLabel': 'False', 'DimensionLabel': 'I received this product as a free sample'}}          \n",
       "2  {'skinType': {'Value': 'combination', 'Id': 'skinType', 'ValueLabel': 'Combination', 'DimensionLabel': 'Skin Type'}, 'eyeColor': {'Value': 'blue', 'Id': 'eyeColor', 'ValueLabel': 'Blue', 'DimensionLabel': 'Eye Color'}, 'skinConcerns': {'Value': 'acne', 'Id': 'skinConcerns', 'ValueLabel': 'Acne', 'DimensionLabel': 'Skin concerns'}, 'hairColor': {'Value': 'red', 'Id': 'hairColor', 'ValueLabel': 'Red', 'DimensionLabel': 'Hair color'}, 'skinTone': {'Value': 'fair', 'Id': 'skinTone', 'ValueLabel': 'Fair', 'DimensionLabel': 'Skin Tone'}}                                                                                                                                                                                                                                                                                                        \n",
       "3  {'skinType': {'Value': 'combination', 'Id': 'skinType', 'ValueLabel': 'Combination', 'DimensionLabel': 'Skin Type'}, 'eyeColor': {'Value': 'brown', 'Id': 'eyeColor', 'ValueLabel': 'Brown', 'DimensionLabel': 'Eye Color'}, 'skinConcerns': {'Value': 'acne', 'Id': 'skinConcerns', 'ValueLabel': 'Acne', 'DimensionLabel': 'Skin concerns'}, 'StaffContext': {'Value': 'false', 'Id': 'StaffContext', 'ValueLabel': 'No', 'DimensionLabel': 'I am a Sephora employee'}, 'hairColor': {'Value': 'brunette', 'Id': 'hairColor', 'ValueLabel': 'Brunette', 'DimensionLabel': 'Hair color'}, 'skinTone': {'Value': 'medium', 'Id': 'skinTone', 'ValueLabel': 'Medium', 'DimensionLabel': 'Skin Tone'}, 'IncentivizedReview': {'Value': 'false', 'Id': 'IncentivizedReview', 'ValueLabel': 'False', 'DimensionLabel': 'I received this product as a free sample'}}  \n",
       "4  {'skinType': {'Value': 'combination', 'Id': 'skinType', 'ValueLabel': 'Combination', 'DimensionLabel': 'Skin Type'}, 'eyeColor': {'Value': 'brown', 'Id': 'eyeColor', 'ValueLabel': 'Brown', 'DimensionLabel': 'Eye Color'}, 'skinConcerns': {'Value': 'aging', 'Id': 'skinConcerns', 'ValueLabel': 'Aging', 'DimensionLabel': 'Skin concerns'}, 'StaffContext': {'Value': 'false', 'Id': 'StaffContext', 'ValueLabel': 'No', 'DimensionLabel': 'I am a Sephora employee'}, 'hairColor': {'Value': 'blonde', 'Id': 'hairColor', 'ValueLabel': 'Blonde', 'DimensionLabel': 'Hair color'}, 'skinTone': {'Value': 'light', 'Id': 'skinTone', 'ValueLabel': 'Light', 'DimensionLabel': 'Skin Tone'}, 'IncentivizedReview': {'Value': 'false', 'Id': 'IncentivizedReview', 'ValueLabel': 'False', 'DimensionLabel': 'I received this product as a free sample'}}      "
      ]
     },
     "execution_count": 6,
     "metadata": {},
     "output_type": "execute_result"
    }
   ],
   "source": [
    "reviews_short.rename(\n",
    "    {\n",
    "        \"AuthorId\": \"author_id\",\n",
    "        \"SubmissionTime\": \"date\",\n",
    "        \"Id\": \"review_id\",\n",
    "        \"Rating\": \"rating\",\n",
    "        \"Helpfulness\": \"helpfulness\",\n",
    "        \"TotalFeedbackCount\": \"feedback_count\",\n",
    "        \"TotalPositiveFeedbackCount\": \"positive_feedback\",\n",
    "        \"TotalNegativeFeedbackCount\": \"negative_feedback\",\n",
    "        \"TotalCommentCount\": \"comment_count\",\n",
    "        \"ContextDataValues\": \"context\",\n",
    "        \"Title\": \"review_title\",\n",
    "        \"ReviewText\": \"review_text\"\n",
    "    },\n",
    "    axis=1,\n",
    "    inplace=True)\n",
    "\n",
    "reviews_short.head()"
   ]
  },
  {
   "cell_type": "code",
   "execution_count": 7,
   "metadata": {},
   "outputs": [
    {
     "data": {
      "application/vnd.jupyter.widget-view+json": {
       "model_id": "5634a3234fa04eabae9622731eea8b10",
       "version_major": 2,
       "version_minor": 0
      },
      "text/plain": [
       "HBox(children=(IntProgress(value=0, max=939049), HTML(value='')))"
      ]
     },
     "metadata": {},
     "output_type": "display_data"
    },
    {
     "name": "stdout",
     "output_type": "stream",
     "text": [
      "\n"
     ]
    }
   ],
   "source": [
    "for i in tqdm(range(len(reviews_short))):\n",
    "\n",
    "    if reviews_short[\"context\"].iloc[i]:\n",
    "        context = json.loads(reviews_short[\"context\"].iloc[i].replace(\"\\'\", \"\\\"\"))\n",
    "        if context=={}:\n",
    "            pass\n",
    "        else:\n",
    "            for context, value in context.items():\n",
    "                for context2, value2 in value.items():\n",
    "                    col_name = (re.sub(r\"[^a-zA-Z0-9]+\", \" \",\n",
    "                                       context.lower())).replace(\" \", \"_\")\n",
    "                    reviews_short.at[i, col_name] = value[\"Value\"]\n",
    "\n",
    "#     if reviews_short[\"tags\"].iloc[i]:\n",
    "#         tags = json.loads(reviews_short[\"tags\"].iloc[i].replace(\"\\'\", \"\\\"\"))\n",
    "#         if tags=={}:\n",
    "#             pass\n",
    "#         else:\n",
    "#             reviews_short.at[i, \"tags_list\"] = tags[\"Pro\"][\"Values\"]"
   ]
  },
  {
   "cell_type": "code",
   "execution_count": 8,
   "metadata": {},
   "outputs": [],
   "source": [
    "reviews_short.drop(columns=\"context\", inplace=True)"
   ]
  },
  {
   "cell_type": "code",
   "execution_count": 9,
   "metadata": {
    "scrolled": true
   },
   "outputs": [
    {
     "data": {
      "text/plain": [
       "product_id            0     \n",
       "author_id             0     \n",
       "date                  0     \n",
       "review_id             0     \n",
       "rating                0     \n",
       "helpfulness           626394\n",
       "feedback_count        0     \n",
       "positive_feedback     0     \n",
       "negative_feedback     0     \n",
       "comment_count         0     \n",
       "review_title          312958\n",
       "review_text           5744  \n",
       "skintype              11647 \n",
       "eyecolor              28310 \n",
       "skinconcerns          391404\n",
       "staffcontext          284934\n",
       "haircolor             17844 \n",
       "skintone              11748 \n",
       "incentivizedreview    284934\n",
       "verifiedpurchaser     692532\n",
       "age                   838900\n",
       "hairconcerns          846079\n",
       "haircondition         907437\n",
       "dtype: int64"
      ]
     },
     "execution_count": 9,
     "metadata": {},
     "output_type": "execute_result"
    }
   ],
   "source": [
    "reviews_short.isna().sum()"
   ]
  },
  {
   "cell_type": "code",
   "execution_count": 10,
   "metadata": {},
   "outputs": [],
   "source": [
    "reviews_short.helpfulness.fillna(2, inplace=True)"
   ]
  },
  {
   "cell_type": "code",
   "execution_count": 12,
   "metadata": {},
   "outputs": [],
   "source": [
    "reviews_short.to_csv(\"selected_reviews_short.csv\", index=False)"
   ]
  },
  {
   "cell_type": "code",
   "execution_count": null,
   "metadata": {},
   "outputs": [],
   "source": []
  }
 ],
 "metadata": {
  "kernelspec": {
   "display_name": "Python [conda env:learn-env] *",
   "language": "python",
   "name": "conda-env-learn-env-py"
  },
  "language_info": {
   "codemirror_mode": {
    "name": "ipython",
    "version": 3
   },
   "file_extension": ".py",
   "mimetype": "text/x-python",
   "name": "python",
   "nbconvert_exporter": "python",
   "pygments_lexer": "ipython3",
   "version": "3.6.9"
  },
  "toc": {
   "base_numbering": 1,
   "nav_menu": {},
   "number_sections": true,
   "sideBar": true,
   "skip_h1_title": false,
   "title_cell": "Table of Contents",
   "title_sidebar": "Contents",
   "toc_cell": false,
   "toc_position": {},
   "toc_section_display": true,
   "toc_window_display": false
  },
  "varInspector": {
   "cols": {
    "lenName": 16,
    "lenType": 16,
    "lenVar": 40
   },
   "kernels_config": {
    "python": {
     "delete_cmd_postfix": "",
     "delete_cmd_prefix": "del ",
     "library": "var_list.py",
     "varRefreshCmd": "print(var_dic_list())"
    },
    "r": {
     "delete_cmd_postfix": ") ",
     "delete_cmd_prefix": "rm(",
     "library": "var_list.r",
     "varRefreshCmd": "cat(var_dic_list()) "
    }
   },
   "position": {
    "height": "482px",
    "left": "1313px",
    "right": "20px",
    "top": "160px",
    "width": "339px"
   },
   "types_to_exclude": [
    "module",
    "function",
    "builtin_function_or_method",
    "instance",
    "_Feature"
   ],
   "window_display": false
  }
 },
 "nbformat": 4,
 "nbformat_minor": 2
}
