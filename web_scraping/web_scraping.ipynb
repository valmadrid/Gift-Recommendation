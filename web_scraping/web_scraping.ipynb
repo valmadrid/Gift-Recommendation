{
 "cells": [
  {
   "cell_type": "code",
   "execution_count": 42,
   "metadata": {},
   "outputs": [],
   "source": [
    "import pandas as pd\n",
    "from tqdm import tqdm_notebook as tqdm\n",
    "import os\n",
    "\n",
    "pd.set_option(\"display.max_columns\", None)\n",
    "pd.set_option(\"display.max_colwidth\", -1)\n",
    "pd.set_option(\"display.float_format\", \"{:.4f}\".format)\n",
    "pd.set_option(\"display.max_info_rows\", 200)"
   ]
  },
  {
   "cell_type": "code",
   "execution_count": 2,
   "metadata": {},
   "outputs": [],
   "source": [
    "import sephora_scrape as scrape\n",
    "%load_ext autoreload\n",
    "%autoreload 2"
   ]
  },
  {
   "cell_type": "markdown",
   "metadata": {},
   "source": [
    "# Brand List"
   ]
  },
  {
   "cell_type": "markdown",
   "metadata": {},
   "source": [
    "We'll be able to scrape all products from the website by doing it per brand.  First, let's get a list of all brands and the corresponding url link."
   ]
  },
  {
   "cell_type": "code",
   "execution_count": 15,
   "metadata": {},
   "outputs": [],
   "source": [
    "sephora = scrape.Sephora()\n",
    "sephora_brands_url = \"https://www.sephora.com/brands-list\"\n",
    "sephora.open_url(sephora_brands_url)\n",
    "sephora.get_brands()"
   ]
  },
  {
   "cell_type": "code",
   "execution_count": 19,
   "metadata": {},
   "outputs": [
    {
     "data": {
      "text/plain": [
       "(338,\n",
       " [{'brand_name': 'Acqua di Parma',\n",
       "   'brand_link': 'https://www.sephora.com/brand/acqua-di-parma'},\n",
       "  {'brand_name': 'adwoa beauty',\n",
       "   'brand_link': 'https://www.sephora.com/brand/adwoa-beauty'},\n",
       "  {'brand_name': 'AERIN',\n",
       "   'brand_link': 'https://www.sephora.com/brand/aerin-perfume'},\n",
       "  {'brand_name': 'Aether Beauty',\n",
       "   'brand_link': 'https://www.sephora.com/brand/aether-beauty'},\n",
       "  {'brand_name': 'Algenist',\n",
       "   'brand_link': 'https://www.sephora.com/brand/algenist'},\n",
       "  {'brand_name': 'Alpha-H',\n",
       "   'brand_link': 'https://www.sephora.com/brand/alpha-h'},\n",
       "  {'brand_name': 'alpyn beauty',\n",
       "   'brand_link': 'https://www.sephora.com/brand/alpyn-beauty'},\n",
       "  {'brand_name': 'ALTERNA Haircare',\n",
       "   'brand_link': 'https://www.sephora.com/brand/alterna'},\n",
       "  {'brand_name': 'amika', 'brand_link': 'https://www.sephora.com/brand/amika'},\n",
       "  {'brand_name': 'AMOREPACIFIC',\n",
       "   'brand_link': 'https://www.sephora.com/brand/amorepacific'}])"
      ]
     },
     "execution_count": 19,
     "metadata": {},
     "output_type": "execute_result"
    }
   ],
   "source": [
    "len(sephora.brand_list), sephora.brand_list[:10]"
   ]
  },
  {
   "cell_type": "code",
   "execution_count": 17,
   "metadata": {},
   "outputs": [],
   "source": [
    "df_brands = pd.DataFrame(sephora.brand_list)\n",
    "df_brands.to_csv(\"brands.csv\", index=False)\n",
    "sephora.browser.quit()"
   ]
  },
  {
   "cell_type": "code",
   "execution_count": 3,
   "metadata": {
    "scrolled": true
   },
   "outputs": [
    {
     "data": {
      "text/html": [
       "<div>\n",
       "<style scoped>\n",
       "    .dataframe tbody tr th:only-of-type {\n",
       "        vertical-align: middle;\n",
       "    }\n",
       "\n",
       "    .dataframe tbody tr th {\n",
       "        vertical-align: top;\n",
       "    }\n",
       "\n",
       "    .dataframe thead th {\n",
       "        text-align: right;\n",
       "    }\n",
       "</style>\n",
       "<table border=\"1\" class=\"dataframe\">\n",
       "  <thead>\n",
       "    <tr style=\"text-align: right;\">\n",
       "      <th></th>\n",
       "      <th>brand_name</th>\n",
       "      <th>brand_link</th>\n",
       "    </tr>\n",
       "  </thead>\n",
       "  <tbody>\n",
       "    <tr>\n",
       "      <td>0</td>\n",
       "      <td>Acqua di Parma</td>\n",
       "      <td>https://www.sephora.com/brand/acqua-di-parma</td>\n",
       "    </tr>\n",
       "    <tr>\n",
       "      <td>1</td>\n",
       "      <td>adwoa beauty</td>\n",
       "      <td>https://www.sephora.com/brand/adwoa-beauty</td>\n",
       "    </tr>\n",
       "    <tr>\n",
       "      <td>2</td>\n",
       "      <td>AERIN</td>\n",
       "      <td>https://www.sephora.com/brand/aerin-perfume</td>\n",
       "    </tr>\n",
       "    <tr>\n",
       "      <td>3</td>\n",
       "      <td>Aether Beauty</td>\n",
       "      <td>https://www.sephora.com/brand/aether-beauty</td>\n",
       "    </tr>\n",
       "    <tr>\n",
       "      <td>4</td>\n",
       "      <td>Algenist</td>\n",
       "      <td>https://www.sephora.com/brand/algenist</td>\n",
       "    </tr>\n",
       "  </tbody>\n",
       "</table>\n",
       "</div>"
      ],
      "text/plain": [
       "       brand_name                                    brand_link\n",
       "0  Acqua di Parma  https://www.sephora.com/brand/acqua-di-parma\n",
       "1  adwoa beauty    https://www.sephora.com/brand/adwoa-beauty  \n",
       "2  AERIN           https://www.sephora.com/brand/aerin-perfume \n",
       "3  Aether Beauty   https://www.sephora.com/brand/aether-beauty \n",
       "4  Algenist        https://www.sephora.com/brand/algenist      "
      ]
     },
     "execution_count": 3,
     "metadata": {},
     "output_type": "execute_result"
    }
   ],
   "source": [
    "df_brands = pd.read_csv(\"brands.csv\")\n",
    "df_brands.head()"
   ]
  },
  {
   "cell_type": "markdown",
   "metadata": {},
   "source": [
    "# Product List & Detailed Information"
   ]
  },
  {
   "cell_type": "code",
   "execution_count": 4,
   "metadata": {},
   "outputs": [],
   "source": [
    "json_folder = \"/Users/valmadrid/DataScienceBootcamp/Projects/Gift Recommendation/Gift-Recommendation/web_scraping/json/\"\n",
    "if not os.path.exists(json_folder):\n",
    "    os.mkdir(json_folder)"
   ]
  },
  {
   "cell_type": "code",
   "execution_count": 5,
   "metadata": {},
   "outputs": [],
   "source": [
    "images_folder = \"/Users/valmadrid/DataScienceBootcamp/Projects/Gift Recommendation/Gift-Recommendation/web_scraping/images/\"\n",
    "if not os.path.exists(images_folder):\n",
    "    os.mkdir(images_folder)"
   ]
  },
  {
   "cell_type": "code",
   "execution_count": 9,
   "metadata": {
    "scrolled": false
   },
   "outputs": [
    {
     "data": {
      "application/vnd.jupyter.widget-view+json": {
       "model_id": "04dcf2cd4af34d64b191ecc585ddfb5b",
       "version_major": 2,
       "version_minor": 0
      },
      "text/plain": [
       "HBox(children=(IntProgress(value=0, max=338), HTML(value='')))"
      ]
     },
     "metadata": {},
     "output_type": "display_data"
    },
    {
     "name": "stdout",
     "output_type": "stream",
     "text": [
      "\n"
     ]
    }
   ],
   "source": [
    "df_products = pd.DataFrame()\n",
    "\n",
    "brand = scrape.Sephora()\n",
    "product = scrape.Sephora()\n",
    "brand_urls = df_brands.brand_link.unique()\n",
    "\n",
    "for brand_url in tqdm(brand_urls):\n",
    "\n",
    "    for page in range(1, 10):\n",
    "\n",
    "        if page == 1:\n",
    "            full_url = brand_url + \"?pageSize=300\"\n",
    "        else:\n",
    "            full_url = brand_url + \"?pageSize=300&currentPage=\" + str(page)\n",
    "\n",
    "        brand.open_url(full_url)  # open url\n",
    "        brand.get_productsJSON()  # get products from text/json\n",
    "        if len(brand.product_list) == 0:\n",
    "            # if get_productsJSON() returns None then get products class a's\n",
    "            brand.get_productsHTML()  \n",
    "\n",
    "        df_products = df_products.append(pd.DataFrame(brand.product_list),\n",
    "                                         ignore_index=True)\n",
    "        \n",
    "#         for i in brand.product_list:\n",
    "#             product.open_url(i[\"product_link\"])  # open url of product i\n",
    "#             product.get_product_info(i[\"product_id\"], json_folder) #save json\n",
    "#             product.get_image(i[\"product_sku\"], images_folder) #save image\n",
    "        \n",
    "        if len(brand.product_list) < 300:\n",
    "            # if current page has less than 300 items, then go to next brand\n",
    "            break\n",
    "        else:\n",
    "            # otherwise go to next page\n",
    "            continue\n",
    "\n",
    "    df_products.to_csv(\"product_list.csv\", index=False)\n",
    "\n",
    "brand.browser.quit()\n",
    "product.browser.quit()\n",
    "\n",
    "del brand, product, brand_urls, full_url, brand_url, page, i"
   ]
  },
  {
   "cell_type": "code",
   "execution_count": 138,
   "metadata": {},
   "outputs": [
    {
     "data": {
      "text/html": [
       "<div>\n",
       "<style scoped>\n",
       "    .dataframe tbody tr th:only-of-type {\n",
       "        vertical-align: middle;\n",
       "    }\n",
       "\n",
       "    .dataframe tbody tr th {\n",
       "        vertical-align: top;\n",
       "    }\n",
       "\n",
       "    .dataframe thead th {\n",
       "        text-align: right;\n",
       "    }\n",
       "</style>\n",
       "<table border=\"1\" class=\"dataframe\">\n",
       "  <thead>\n",
       "    <tr style=\"text-align: right;\">\n",
       "      <th></th>\n",
       "      <th>brand_name</th>\n",
       "      <th>product_id</th>\n",
       "      <th>product_sku</th>\n",
       "      <th>product_name</th>\n",
       "      <th>product_price_low</th>\n",
       "      <th>product_price_high</th>\n",
       "      <th>product_rating</th>\n",
       "      <th>product_image</th>\n",
       "      <th>product_link</th>\n",
       "    </tr>\n",
       "  </thead>\n",
       "  <tbody>\n",
       "    <tr>\n",
       "      <td>0</td>\n",
       "      <td>8Greens</td>\n",
       "      <td>P437988</td>\n",
       "      <td>2162444</td>\n",
       "      <td>8G Dietary Supplement</td>\n",
       "      <td>14.0000</td>\n",
       "      <td>78.0000</td>\n",
       "      <td>4.4219</td>\n",
       "      <td>https://www.sephora.com/productimages/sku/s2162444-main-Lhero.jpg</td>\n",
       "      <td>https://www.sephora.com/product/8greens-dietary-supplement-P437988</td>\n",
       "    </tr>\n",
       "    <tr>\n",
       "      <td>1</td>\n",
       "      <td>8Greens</td>\n",
       "      <td>P452918</td>\n",
       "      <td>2298891</td>\n",
       "      <td>8Greens Gummies Dietary Supplement</td>\n",
       "      <td>45.0000</td>\n",
       "      <td>45.0000</td>\n",
       "      <td>4.2000</td>\n",
       "      <td>https://www.sephora.com/productimages/sku/s2298891-main-Lhero.jpg</td>\n",
       "      <td>https://www.sephora.com/product/8greens-8greens-gummies-dietary-supplement-P452918</td>\n",
       "    </tr>\n",
       "    <tr>\n",
       "      <td>2</td>\n",
       "      <td>8Greens</td>\n",
       "      <td>P455912</td>\n",
       "      <td>2321461</td>\n",
       "      <td>8Greens Skin Tablet</td>\n",
       "      <td>16.0000</td>\n",
       "      <td>16.0000</td>\n",
       "      <td>3.8333</td>\n",
       "      <td>https://www.sephora.com/productimages/sku/s2321461-main-Lhero.jpg</td>\n",
       "      <td>https://www.sephora.com/product/8greens-8greens-skin-tablet-P455912</td>\n",
       "    </tr>\n",
       "    <tr>\n",
       "      <td>3</td>\n",
       "      <td>AERIN</td>\n",
       "      <td>P388762</td>\n",
       "      <td>1738582</td>\n",
       "      <td>Ikat Jasmine</td>\n",
       "      <td>30.0000</td>\n",
       "      <td>180.0000</td>\n",
       "      <td>4.4211</td>\n",
       "      <td>https://www.sephora.com/productimages/sku/s1738582-main-Lhero.jpg</td>\n",
       "      <td>https://www.sephora.com/product/ikat-jasmine-P388762</td>\n",
       "    </tr>\n",
       "    <tr>\n",
       "      <td>4</td>\n",
       "      <td>AERIN</td>\n",
       "      <td>P388764</td>\n",
       "      <td>1639210</td>\n",
       "      <td>Gardenia Rattan</td>\n",
       "      <td>130.0000</td>\n",
       "      <td>130.0000</td>\n",
       "      <td>4.1667</td>\n",
       "      <td>https://www.sephora.com/productimages/sku/s1639210-main-Lhero.jpg</td>\n",
       "      <td>https://www.sephora.com/product/gardenia-rattan-P388764</td>\n",
       "    </tr>\n",
       "    <tr>\n",
       "      <td>...</td>\n",
       "      <td>...</td>\n",
       "      <td>...</td>\n",
       "      <td>...</td>\n",
       "      <td>...</td>\n",
       "      <td>...</td>\n",
       "      <td>...</td>\n",
       "      <td>...</td>\n",
       "      <td>...</td>\n",
       "      <td>...</td>\n",
       "    </tr>\n",
       "    <tr>\n",
       "      <td>8988</td>\n",
       "      <td>trèStiQue</td>\n",
       "      <td>P416573</td>\n",
       "      <td>1901289</td>\n",
       "      <td>Magic Mattifying Balm &amp; Blotting Sheet Duo</td>\n",
       "      <td>28.0000</td>\n",
       "      <td>28.0000</td>\n",
       "      <td>3.8889</td>\n",
       "      <td>https://www.sephora.com/productimages/sku/s1901289-main-Lhero.jpg</td>\n",
       "      <td>https://www.sephora.com/product/magic-mattifying-balm-blotting-sheet-duo-P416573</td>\n",
       "    </tr>\n",
       "    <tr>\n",
       "      <td>8989</td>\n",
       "      <td>trèStiQue</td>\n",
       "      <td>P429026</td>\n",
       "      <td>2041945</td>\n",
       "      <td>Mini Plumping Lip Balm</td>\n",
       "      <td>12.0000</td>\n",
       "      <td>12.0000</td>\n",
       "      <td>2.9307</td>\n",
       "      <td>https://www.sephora.com/productimages/sku/s2041945-main-Lhero.jpg</td>\n",
       "      <td>https://www.sephora.com/product/mini-plumping-lip-balm-P429026</td>\n",
       "    </tr>\n",
       "    <tr>\n",
       "      <td>8990</td>\n",
       "      <td>trèStiQue</td>\n",
       "      <td>P429276</td>\n",
       "      <td>2060762</td>\n",
       "      <td>Sugar Polish + Plumping Balm</td>\n",
       "      <td>24.0000</td>\n",
       "      <td>24.0000</td>\n",
       "      <td>3.2727</td>\n",
       "      <td>https://www.sephora.com/productimages/sku/s2060762-main-Lhero.jpg</td>\n",
       "      <td>https://www.sephora.com/product/sugar-polish-plumping-balm-P429276</td>\n",
       "    </tr>\n",
       "    <tr>\n",
       "      <td>8991</td>\n",
       "      <td>trèStiQue</td>\n",
       "      <td>P431762</td>\n",
       "      <td>2084358</td>\n",
       "      <td>Prime + Color Lip Glaze</td>\n",
       "      <td>25.0000</td>\n",
       "      <td>25.0000</td>\n",
       "      <td>3.6140</td>\n",
       "      <td>https://www.sephora.com/productimages/sku/s2084358-main-Lhero.jpg</td>\n",
       "      <td>https://www.sephora.com/product/prime-color-lip-glaze-P431762</td>\n",
       "    </tr>\n",
       "    <tr>\n",
       "      <td>8992</td>\n",
       "      <td>trèStiQue</td>\n",
       "      <td>P437959</td>\n",
       "      <td>2143303</td>\n",
       "      <td>All Over Starlighter Powder Highlight Stick</td>\n",
       "      <td>18.0000</td>\n",
       "      <td>18.0000</td>\n",
       "      <td>4.3750</td>\n",
       "      <td>https://www.sephora.com/productimages/sku/s2143303-main-Lhero.jpg</td>\n",
       "      <td>https://www.sephora.com/product/all-over-starlighter-powder-highlight-stick-P437959</td>\n",
       "    </tr>\n",
       "  </tbody>\n",
       "</table>\n",
       "<p>8993 rows × 9 columns</p>\n",
       "</div>"
      ],
      "text/plain": [
       "     brand_name product_id  product_sku  \\\n",
       "0     8Greens    P437988    2162444       \n",
       "1     8Greens    P452918    2298891       \n",
       "2     8Greens    P455912    2321461       \n",
       "3     AERIN      P388762    1738582       \n",
       "4     AERIN      P388764    1639210       \n",
       "...     ...          ...        ...       \n",
       "8988  trèStiQue  P416573    1901289       \n",
       "8989  trèStiQue  P429026    2041945       \n",
       "8990  trèStiQue  P429276    2060762       \n",
       "8991  trèStiQue  P431762    2084358       \n",
       "8992  trèStiQue  P437959    2143303       \n",
       "\n",
       "                                     product_name  product_price_low  \\\n",
       "0     8G Dietary Supplement                       14.0000              \n",
       "1     8Greens Gummies Dietary Supplement          45.0000              \n",
       "2     8Greens Skin Tablet                         16.0000              \n",
       "3     Ikat Jasmine                                30.0000              \n",
       "4     Gardenia Rattan                             130.0000             \n",
       "...               ...                                  ...             \n",
       "8988  Magic Mattifying Balm & Blotting Sheet Duo  28.0000              \n",
       "8989  Mini Plumping Lip Balm                      12.0000              \n",
       "8990  Sugar Polish + Plumping Balm                24.0000              \n",
       "8991  Prime + Color Lip Glaze                     25.0000              \n",
       "8992  All Over Starlighter Powder Highlight Stick 18.0000              \n",
       "\n",
       "      product_price_high  product_rating  \\\n",
       "0    78.0000             4.4219            \n",
       "1    45.0000             4.2000            \n",
       "2    16.0000             3.8333            \n",
       "3    180.0000            4.4211            \n",
       "4    130.0000            4.1667            \n",
       "...       ...               ...            \n",
       "8988 28.0000             3.8889            \n",
       "8989 12.0000             2.9307            \n",
       "8990 24.0000             3.2727            \n",
       "8991 25.0000             3.6140            \n",
       "8992 18.0000             4.3750            \n",
       "\n",
       "                                                          product_image  \\\n",
       "0     https://www.sephora.com/productimages/sku/s2162444-main-Lhero.jpg   \n",
       "1     https://www.sephora.com/productimages/sku/s2298891-main-Lhero.jpg   \n",
       "2     https://www.sephora.com/productimages/sku/s2321461-main-Lhero.jpg   \n",
       "3     https://www.sephora.com/productimages/sku/s1738582-main-Lhero.jpg   \n",
       "4     https://www.sephora.com/productimages/sku/s1639210-main-Lhero.jpg   \n",
       "...                                                                 ...   \n",
       "8988  https://www.sephora.com/productimages/sku/s1901289-main-Lhero.jpg   \n",
       "8989  https://www.sephora.com/productimages/sku/s2041945-main-Lhero.jpg   \n",
       "8990  https://www.sephora.com/productimages/sku/s2060762-main-Lhero.jpg   \n",
       "8991  https://www.sephora.com/productimages/sku/s2084358-main-Lhero.jpg   \n",
       "8992  https://www.sephora.com/productimages/sku/s2143303-main-Lhero.jpg   \n",
       "\n",
       "                                                                             product_link  \n",
       "0     https://www.sephora.com/product/8greens-dietary-supplement-P437988                   \n",
       "1     https://www.sephora.com/product/8greens-8greens-gummies-dietary-supplement-P452918   \n",
       "2     https://www.sephora.com/product/8greens-8greens-skin-tablet-P455912                  \n",
       "3     https://www.sephora.com/product/ikat-jasmine-P388762                                 \n",
       "4     https://www.sephora.com/product/gardenia-rattan-P388764                              \n",
       "...                                                       ...                              \n",
       "8988  https://www.sephora.com/product/magic-mattifying-balm-blotting-sheet-duo-P416573     \n",
       "8989  https://www.sephora.com/product/mini-plumping-lip-balm-P429026                       \n",
       "8990  https://www.sephora.com/product/sugar-polish-plumping-balm-P429276                   \n",
       "8991  https://www.sephora.com/product/prime-color-lip-glaze-P431762                        \n",
       "8992  https://www.sephora.com/product/all-over-starlighter-powder-highlight-stick-P437959  \n",
       "\n",
       "[8993 rows x 9 columns]"
      ]
     },
     "execution_count": 138,
     "metadata": {},
     "output_type": "execute_result"
    }
   ],
   "source": [
    "df_products = pd.read_csv(\"product_list.csv\")\n",
    "df_products"
   ]
  },
  {
   "cell_type": "code",
   "execution_count": null,
   "metadata": {},
   "outputs": [],
   "source": [
    "# product = scrape.Sephora()\n",
    "\n",
    "# product_links = zip(df_products.product_id.values[:5], df_products.product_link.values[:5])\n",
    "\n",
    "# for id_, url in tqdm(product_links):\n",
    "\n",
    "#     product.open_url(url)  # open url\n",
    "#     product.get_product_info(id_, json_folder)\n",
    "#     sleep(2)\n",
    "\n",
    "# product.browser.quit()\n",
    "\n",
    "# del product, product_links"
   ]
  },
  {
   "cell_type": "code",
   "execution_count": 151,
   "metadata": {},
   "outputs": [],
   "source": [
    "downloaded_json = [file.strip(\".json\") for file in os.listdir(json_folder) if file.endswith(\".json\")]"
   ]
  },
  {
   "cell_type": "markdown",
   "metadata": {},
   "source": [
    "# Product Categories & List"
   ]
  },
  {
   "cell_type": "code",
   "execution_count": 142,
   "metadata": {},
   "outputs": [],
   "source": [
    "categories_urls = [\n",
    "    \"https://www.sephora.com/beauty/new-beauty-products\",\n",
    "    \"https://www.sephora.com/shop/gifts-for-her\",\n",
    "    \"https://www.sephora.com/shop/gifts-for-men\",\n",
    "    \"https://www.sephora.com/shop/gifts-for-them\",\n",
    "    \"https://www.sephora.com/shop/gifts-for-teenage-girls\",\n",
    "    \"https://www.sephora.com/shop/gift-sets-for-men\",\n",
    "    \"https://www.sephora.com/shop/travel-size-toiletries\",\n",
    "    \"https://www.sephora.com/shop/value-sets\",\n",
    "    \"https://www.sephora.com/shop/editors-picks-gifts?\",\n",
    "    \"https://www.sephora.com/shop/luxury-gifts\",\n",
    "    \"https://www.sephora.com/shop/exclusive-products\",\n",
    "    \"https://www.sephora.com/shop/mens-perfume\",\n",
    "    \"https://www.sephora.com/shop/mens-facial-products\",\n",
    "    \"https://www.sephora.com/shop/mens-grooming\",\n",
    "    \"https://www.sephora.com/shop/mens-hair-care\",\n",
    "    \"https://www.sephora.com/shop/mens-personal-care\",\n",
    "    \"https://www.sephora.com/beauty/new-cologne-for-men\",\n",
    "    \"https://www.sephora.com/beauty/best-selling-mens-products\"\n",
    "]"
   ]
  },
  {
   "cell_type": "code",
   "execution_count": 149,
   "metadata": {},
   "outputs": [],
   "source": [
    "categories_name = [\n",
    "    \"just_arrived\", \"gifts_her\", \"gifts_men\", \"gifts_them\", \"gifts_teens\",\n",
    "    \"gift_sets_men\", \"travel_size\", \"gift_sets\", \"editors_picks\",\n",
    "    \"luxury_gifts\", \"sephora_exclusives\", \"perfume_men\", \"facial_men\",\n",
    "    \"grooming_men\", \"hair_men\", \"personal_care_men\", \"just_arrived_men\", \"best_seller_men\"\n",
    "]"
   ]
  },
  {
   "cell_type": "code",
   "execution_count": 157,
   "metadata": {},
   "outputs": [
    {
     "name": "stderr",
     "output_type": "stream",
     "text": [
      "[autoreload of sephora_scrape failed: Traceback (most recent call last):\n",
      "  File \"/Applications/anaconda3/envs/learn-env/lib/python3.6/site-packages/IPython/extensions/autoreload.py\", line 245, in check\n",
      "    superreload(m, reload, self.old_objects)\n",
      "  File \"/Applications/anaconda3/envs/learn-env/lib/python3.6/site-packages/IPython/extensions/autoreload.py\", line 450, in superreload\n",
      "    update_generic(old_obj, new_obj)\n",
      "  File \"/Applications/anaconda3/envs/learn-env/lib/python3.6/site-packages/IPython/extensions/autoreload.py\", line 387, in update_generic\n",
      "    update(a, b)\n",
      "  File \"/Applications/anaconda3/envs/learn-env/lib/python3.6/site-packages/IPython/extensions/autoreload.py\", line 357, in update_class\n",
      "    update_instances(old, new)\n",
      "  File \"/Applications/anaconda3/envs/learn-env/lib/python3.6/site-packages/IPython/extensions/autoreload.py\", line 312, in update_instances\n",
      "    update_instances(old, new, obj.__dict__, visited)\n",
      "  File \"/Applications/anaconda3/envs/learn-env/lib/python3.6/site-packages/IPython/extensions/autoreload.py\", line 312, in update_instances\n",
      "    update_instances(old, new, obj.__dict__, visited)\n",
      "  File \"/Applications/anaconda3/envs/learn-env/lib/python3.6/site-packages/IPython/extensions/autoreload.py\", line 317, in update_instances\n",
      "    update_instances(old, new, obj, visited)\n",
      "  File \"/Applications/anaconda3/envs/learn-env/lib/python3.6/site-packages/IPython/extensions/autoreload.py\", line 312, in update_instances\n",
      "    update_instances(old, new, obj.__dict__, visited)\n",
      "  File \"/Applications/anaconda3/envs/learn-env/lib/python3.6/site-packages/IPython/extensions/autoreload.py\", line 317, in update_instances\n",
      "    update_instances(old, new, obj, visited)\n",
      "  File \"/Applications/anaconda3/envs/learn-env/lib/python3.6/site-packages/IPython/extensions/autoreload.py\", line 312, in update_instances\n",
      "    update_instances(old, new, obj.__dict__, visited)\n",
      "RecursionError: maximum recursion depth exceeded while calling a Python object\n",
      "]\n"
     ]
    },
    {
     "data": {
      "application/vnd.jupyter.widget-view+json": {
       "model_id": "0059072cde504490856dc3b19b0c2ab2",
       "version_major": 2,
       "version_minor": 0
      },
      "text/plain": [
       "HBox(children=(IntProgress(value=1, bar_style='info', max=1), HTML(value='')))"
      ]
     },
     "metadata": {},
     "output_type": "display_data"
    },
    {
     "name": "stdout",
     "output_type": "stream",
     "text": [
      "\n"
     ]
    }
   ],
   "source": [
    "categories = {}\n",
    "\n",
    "category = scrape.Sephora()\n",
    "\n",
    "for url, cat in tqdm(zip(categories_urls, categories_name)):\n",
    "    \n",
    "    products = []\n",
    "    \n",
    "    for page in range(1, 10):\n",
    "\n",
    "        if page == 1:\n",
    "            full_url = url + \"?pageSize=300\"\n",
    "        else:\n",
    "            full_url = url + \"?pageSize=300&currentPage=\" + str(page)\n",
    "\n",
    "        category.open_url(full_url)  # open url\n",
    "        category.get_productsJSON()  # get products from text/json\n",
    "        if len(category.product_list) == 0:\n",
    "            # if get_productsJSON() returns None then get products class a's\n",
    "            category.get_productsHTML()  \n",
    "        \n",
    "        products.extend([i[\"product_id\"] for i in category.product_list])\n",
    "        \n",
    "        if len(category.product_list) < 300:\n",
    "            # if current page has less than 300 items, then go to next brand\n",
    "            break\n",
    "        else:\n",
    "            # otherwise go to next page\n",
    "            continue\n",
    "\n",
    "    categories[cat] = products\n",
    "    with open(\"categories.json\", \"w\") as outfile:\n",
    "        json.dump(categories, outfile, indent=2)\n",
    "    \n",
    "category.browser.quit()\n",
    "\n",
    "del category"
   ]
  },
  {
   "cell_type": "markdown",
   "metadata": {},
   "source": [
    "# Product Stats & Reviews"
   ]
  },
  {
   "cell_type": "code",
   "execution_count": 152,
   "metadata": {},
   "outputs": [],
   "source": [
    "reviews_folder = \"/Users/valmadrid/DataScienceBootcamp/Projects/Gift Recommendation/Gift-Recommendation/web_scraping/reviews/\"\n",
    "if not os.path.exists(reviews_folder):\n",
    "    os.mkdir(reviews_folder)"
   ]
  },
  {
   "cell_type": "code",
   "execution_count": null,
   "metadata": {},
   "outputs": [
    {
     "data": {
      "application/vnd.jupyter.widget-view+json": {
       "model_id": "5e72bd42f9224e9499a31acb425e2c10",
       "version_major": 2,
       "version_minor": 0
      },
      "text/plain": [
       "HBox(children=(IntProgress(value=0, max=2979), HTML(value='')))"
      ]
     },
     "metadata": {},
     "output_type": "display_data"
    }
   ],
   "source": [
    "reviews = scrape.Sephora()\n",
    "\n",
    "product_ids = df_products.product_id.unique()\n",
    "\n",
    "for i in tqdm(range(6014, len(product_ids))):\n",
    "    reviews.get_reviews(product_ids[i], reviews_folder)\n",
    "\n",
    "reviews.browser.quit()\n",
    "\n",
    "del reviews, product_ids"
   ]
  },
  {
   "cell_type": "code",
   "execution_count": null,
   "metadata": {},
   "outputs": [],
   "source": []
  }
 ],
 "metadata": {
  "kernelspec": {
   "display_name": "Python [conda env:learn-env] *",
   "language": "python",
   "name": "conda-env-learn-env-py"
  },
  "language_info": {
   "codemirror_mode": {
    "name": "ipython",
    "version": 3
   },
   "file_extension": ".py",
   "mimetype": "text/x-python",
   "name": "python",
   "nbconvert_exporter": "python",
   "pygments_lexer": "ipython3",
   "version": "3.6.9"
  },
  "toc": {
   "base_numbering": 1,
   "nav_menu": {},
   "number_sections": true,
   "sideBar": true,
   "skip_h1_title": false,
   "title_cell": "Table of Contents",
   "title_sidebar": "Contents",
   "toc_cell": false,
   "toc_position": {},
   "toc_section_display": true,
   "toc_window_display": false
  },
  "varInspector": {
   "cols": {
    "lenName": 16,
    "lenType": 16,
    "lenVar": 40
   },
   "kernels_config": {
    "python": {
     "delete_cmd_postfix": "",
     "delete_cmd_prefix": "del ",
     "library": "var_list.py",
     "varRefreshCmd": "print(var_dic_list())"
    },
    "r": {
     "delete_cmd_postfix": ") ",
     "delete_cmd_prefix": "rm(",
     "library": "var_list.r",
     "varRefreshCmd": "cat(var_dic_list()) "
    }
   },
   "position": {
    "height": "482px",
    "left": "1327px",
    "right": "20px",
    "top": "138px",
    "width": "339px"
   },
   "types_to_exclude": [
    "module",
    "function",
    "builtin_function_or_method",
    "instance",
    "_Feature"
   ],
   "window_display": false
  }
 },
 "nbformat": 4,
 "nbformat_minor": 2
}
