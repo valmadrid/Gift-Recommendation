{
 "cells": [
  {
   "cell_type": "code",
   "execution_count": 1,
   "metadata": {},
   "outputs": [],
   "source": [
    "import pandas as pd\n",
    "from tqdm import tqdm_notebook as tqdm\n",
    "import os\n",
    "\n",
    "pd.set_option(\"display.max_columns\", None)\n",
    "pd.set_option(\"display.max_colwidth\", -1)\n",
    "pd.set_option(\"display.float_format\", \"{:.4f}\".format)\n",
    "pd.set_option(\"display.max_info_rows\", 200)"
   ]
  },
  {
   "cell_type": "code",
   "execution_count": 2,
   "metadata": {},
   "outputs": [],
   "source": [
    "import sephora_scrape as scrape\n",
    "%load_ext autoreload\n",
    "%autoreload 2"
   ]
  },
  {
   "cell_type": "markdown",
   "metadata": {},
   "source": [
    "# Brand List"
   ]
  },
  {
   "cell_type": "markdown",
   "metadata": {},
   "source": [
    "We'll be able to scrape all products from the website by doing it per brand.  First, let's get a list of all brands and the corresponding url link."
   ]
  },
  {
   "cell_type": "code",
   "execution_count": 15,
   "metadata": {},
   "outputs": [],
   "source": [
    "sephora = scrape.Sephora()\n",
    "sephora_brands_url = \"https://www.sephora.com/brands-list\"\n",
    "sephora.open_url(sephora_brands_url)\n",
    "sephora.get_brands()"
   ]
  },
  {
   "cell_type": "code",
   "execution_count": 19,
   "metadata": {},
   "outputs": [
    {
     "data": {
      "text/plain": [
       "(338,\n",
       " [{'brand_name': 'Acqua di Parma',\n",
       "   'brand_link': 'https://www.sephora.com/brand/acqua-di-parma'},\n",
       "  {'brand_name': 'adwoa beauty',\n",
       "   'brand_link': 'https://www.sephora.com/brand/adwoa-beauty'},\n",
       "  {'brand_name': 'AERIN',\n",
       "   'brand_link': 'https://www.sephora.com/brand/aerin-perfume'},\n",
       "  {'brand_name': 'Aether Beauty',\n",
       "   'brand_link': 'https://www.sephora.com/brand/aether-beauty'},\n",
       "  {'brand_name': 'Algenist',\n",
       "   'brand_link': 'https://www.sephora.com/brand/algenist'},\n",
       "  {'brand_name': 'Alpha-H',\n",
       "   'brand_link': 'https://www.sephora.com/brand/alpha-h'},\n",
       "  {'brand_name': 'alpyn beauty',\n",
       "   'brand_link': 'https://www.sephora.com/brand/alpyn-beauty'},\n",
       "  {'brand_name': 'ALTERNA Haircare',\n",
       "   'brand_link': 'https://www.sephora.com/brand/alterna'},\n",
       "  {'brand_name': 'amika', 'brand_link': 'https://www.sephora.com/brand/amika'},\n",
       "  {'brand_name': 'AMOREPACIFIC',\n",
       "   'brand_link': 'https://www.sephora.com/brand/amorepacific'}])"
      ]
     },
     "execution_count": 19,
     "metadata": {},
     "output_type": "execute_result"
    }
   ],
   "source": [
    "len(sephora.brand_list), sephora.brand_list[:10]"
   ]
  },
  {
   "cell_type": "code",
   "execution_count": 17,
   "metadata": {},
   "outputs": [],
   "source": [
    "df_brands = pd.DataFrame(sephora.brand_list)\n",
    "df_brands.to_csv(\"brands.csv\", index=False)\n",
    "sephora.browser.quit()"
   ]
  },
  {
   "cell_type": "code",
   "execution_count": 3,
   "metadata": {
    "scrolled": true
   },
   "outputs": [
    {
     "data": {
      "text/html": [
       "<div>\n",
       "<style scoped>\n",
       "    .dataframe tbody tr th:only-of-type {\n",
       "        vertical-align: middle;\n",
       "    }\n",
       "\n",
       "    .dataframe tbody tr th {\n",
       "        vertical-align: top;\n",
       "    }\n",
       "\n",
       "    .dataframe thead th {\n",
       "        text-align: right;\n",
       "    }\n",
       "</style>\n",
       "<table border=\"1\" class=\"dataframe\">\n",
       "  <thead>\n",
       "    <tr style=\"text-align: right;\">\n",
       "      <th></th>\n",
       "      <th>brand_name</th>\n",
       "      <th>brand_link</th>\n",
       "    </tr>\n",
       "  </thead>\n",
       "  <tbody>\n",
       "    <tr>\n",
       "      <td>0</td>\n",
       "      <td>Acqua di Parma</td>\n",
       "      <td>https://www.sephora.com/brand/acqua-di-parma</td>\n",
       "    </tr>\n",
       "    <tr>\n",
       "      <td>1</td>\n",
       "      <td>adwoa beauty</td>\n",
       "      <td>https://www.sephora.com/brand/adwoa-beauty</td>\n",
       "    </tr>\n",
       "    <tr>\n",
       "      <td>2</td>\n",
       "      <td>AERIN</td>\n",
       "      <td>https://www.sephora.com/brand/aerin-perfume</td>\n",
       "    </tr>\n",
       "    <tr>\n",
       "      <td>3</td>\n",
       "      <td>Aether Beauty</td>\n",
       "      <td>https://www.sephora.com/brand/aether-beauty</td>\n",
       "    </tr>\n",
       "    <tr>\n",
       "      <td>4</td>\n",
       "      <td>Algenist</td>\n",
       "      <td>https://www.sephora.com/brand/algenist</td>\n",
       "    </tr>\n",
       "  </tbody>\n",
       "</table>\n",
       "</div>"
      ],
      "text/plain": [
       "       brand_name                                    brand_link\n",
       "0  Acqua di Parma  https://www.sephora.com/brand/acqua-di-parma\n",
       "1  adwoa beauty    https://www.sephora.com/brand/adwoa-beauty  \n",
       "2  AERIN           https://www.sephora.com/brand/aerin-perfume \n",
       "3  Aether Beauty   https://www.sephora.com/brand/aether-beauty \n",
       "4  Algenist        https://www.sephora.com/brand/algenist      "
      ]
     },
     "execution_count": 3,
     "metadata": {},
     "output_type": "execute_result"
    }
   ],
   "source": [
    "df_brands = pd.read_csv(\"brands.csv\")\n",
    "df_brands.head()"
   ]
  },
  {
   "cell_type": "markdown",
   "metadata": {},
   "source": [
    "# Product List & Detailed Information"
   ]
  },
  {
   "cell_type": "code",
   "execution_count": 4,
   "metadata": {},
   "outputs": [],
   "source": [
    "json_folder = \"/Users/valmadrid/DataScienceBootcamp/Projects/Gift Recommendation/Gift-Recommendation/web_scraping/json/\"\n",
    "if not os.path.exists(json_folder):\n",
    "    os.mkdir(json_folder)"
   ]
  },
  {
   "cell_type": "code",
   "execution_count": 5,
   "metadata": {},
   "outputs": [],
   "source": [
    "images_folder = \"/Users/valmadrid/DataScienceBootcamp/Projects/Gift Recommendation/Gift-Recommendation/web_scraping/images/\"\n",
    "if not os.path.exists(images_folder):\n",
    "    os.mkdir(images_folder)"
   ]
  },
  {
   "cell_type": "code",
   "execution_count": 9,
   "metadata": {
    "scrolled": true
   },
   "outputs": [
    {
     "data": {
      "application/vnd.jupyter.widget-view+json": {
       "model_id": "04dcf2cd4af34d64b191ecc585ddfb5b",
       "version_major": 2,
       "version_minor": 0
      },
      "text/plain": [
       "HBox(children=(IntProgress(value=0, max=338), HTML(value='')))"
      ]
     },
     "metadata": {},
     "output_type": "display_data"
    },
    {
     "name": "stdout",
     "output_type": "stream",
     "text": [
      "\n"
     ]
    }
   ],
   "source": [
    "df_products = pd.DataFrame()\n",
    "\n",
    "brand = scrape.Sephora()\n",
    "product = scrape.Sephora()\n",
    "brand_urls = df_brands.brand_link.unique()\n",
    "\n",
    "for brand_url in tqdm(brand_urls):\n",
    "\n",
    "    for page in range(1, 10):\n",
    "\n",
    "        if page == 1:\n",
    "            full_url = brand_url + \"?pageSize=300\"\n",
    "        else:\n",
    "            full_url = brand_url + \"?pageSize=300&currentPage=\" + str(page)\n",
    "\n",
    "        brand.open_url(full_url)  # open url\n",
    "        brand.get_productsJSON()  # get products from text/json\n",
    "        if len(brand.product_list) == 0:\n",
    "            # if get_productsJSON() returns None then get products class a's\n",
    "            brand.get_productsHTML()  \n",
    "\n",
    "        df_products = df_products.append(pd.DataFrame(brand.product_list),\n",
    "                                         ignore_index=True)\n",
    "        \n",
    "#         for i in brand.product_list:\n",
    "#             product.open_url(i[\"product_link\"])  # open url of product i\n",
    "#             product.get_product_info(i[\"product_id\"], json_folder) #save json\n",
    "#             product.get_image(i[\"product_sku\"], images_folder) #save image\n",
    "        \n",
    "        if len(brand.product_list) < 300:\n",
    "            # if current page has less than 300 items, then go to next brand\n",
    "            break\n",
    "        else:\n",
    "            # otherwise go to next page\n",
    "            continue\n",
    "\n",
    "    df_products.to_csv(\"product_list.csv\", index=False)\n",
    "\n",
    "brand.browser.quit()\n",
    "product.browser.quit()\n",
    "\n",
    "del brand, product, brand_urls, full_url, brand_url, page, i"
   ]
  },
  {
   "cell_type": "code",
   "execution_count": 10,
   "metadata": {
    "scrolled": true
   },
   "outputs": [
    {
     "data": {
      "text/html": [
       "<div>\n",
       "<style scoped>\n",
       "    .dataframe tbody tr th:only-of-type {\n",
       "        vertical-align: middle;\n",
       "    }\n",
       "\n",
       "    .dataframe tbody tr th {\n",
       "        vertical-align: top;\n",
       "    }\n",
       "\n",
       "    .dataframe thead th {\n",
       "        text-align: right;\n",
       "    }\n",
       "</style>\n",
       "<table border=\"1\" class=\"dataframe\">\n",
       "  <thead>\n",
       "    <tr style=\"text-align: right;\">\n",
       "      <th></th>\n",
       "      <th>brand_name</th>\n",
       "      <th>product_id</th>\n",
       "      <th>product_sku</th>\n",
       "      <th>product_name</th>\n",
       "      <th>product_price_low</th>\n",
       "      <th>product_price_high</th>\n",
       "      <th>product_rating</th>\n",
       "      <th>product_image</th>\n",
       "      <th>product_link</th>\n",
       "    </tr>\n",
       "  </thead>\n",
       "  <tbody>\n",
       "    <tr>\n",
       "      <td>0</td>\n",
       "      <td>Acqua di Parma</td>\n",
       "      <td>P460442</td>\n",
       "      <td>2377984</td>\n",
       "      <td>LA DOUBLE J Blu Mediterraneo Mini Set</td>\n",
       "      <td>66.0000</td>\n",
       "      <td>66.0000</td>\n",
       "      <td>5.0000</td>\n",
       "      <td>https://www.sephora.com/productimages/sku/s2377984-main-Lhero.jpg</td>\n",
       "      <td>https://www.sephora.com/product/acqua-di-parma-double-j-blu-mediterraneo-mini-set-P460442</td>\n",
       "    </tr>\n",
       "    <tr>\n",
       "      <td>1</td>\n",
       "      <td>Acqua di Parma</td>\n",
       "      <td>P443401</td>\n",
       "      <td>2218774</td>\n",
       "      <td>Blu Mediterraneo MINIATURE Set</td>\n",
       "      <td>66.0000</td>\n",
       "      <td>66.0000</td>\n",
       "      <td>4.2000</td>\n",
       "      <td>https://www.sephora.com/productimages/sku/s2218774-main-Lhero.jpg</td>\n",
       "      <td>https://www.sephora.com/product/blu-mediterraneo-minature-set-P443401</td>\n",
       "    </tr>\n",
       "    <tr>\n",
       "      <td>2</td>\n",
       "      <td>Acqua di Parma</td>\n",
       "      <td>P307801</td>\n",
       "      <td>1417609</td>\n",
       "      <td>Fico di Amalfi</td>\n",
       "      <td>30.0000</td>\n",
       "      <td>180.0000</td>\n",
       "      <td>4.5610</td>\n",
       "      <td>https://www.sephora.com/productimages/sku/s1417609-main-Lhero.jpg</td>\n",
       "      <td>https://www.sephora.com/product/blu-mediterraneo-fico-di-amalfi-P307801</td>\n",
       "    </tr>\n",
       "    <tr>\n",
       "      <td>3</td>\n",
       "      <td>Acqua di Parma</td>\n",
       "      <td>P307804</td>\n",
       "      <td>1417617</td>\n",
       "      <td>Mirto di Panarea</td>\n",
       "      <td>30.0000</td>\n",
       "      <td>180.0000</td>\n",
       "      <td>4.6800</td>\n",
       "      <td>https://www.sephora.com/productimages/sku/s1417617-main-Lhero.jpg</td>\n",
       "      <td>https://www.sephora.com/product/blu-mediterraneo-mirto-di-panarea-P307804</td>\n",
       "    </tr>\n",
       "    <tr>\n",
       "      <td>4</td>\n",
       "      <td>Acqua di Parma</td>\n",
       "      <td>P460441</td>\n",
       "      <td>2379139</td>\n",
       "      <td>Rosa Nobile Shimmering Body Oil</td>\n",
       "      <td>87.0000</td>\n",
       "      <td>87.0000</td>\n",
       "      <td>5.0000</td>\n",
       "      <td>https://www.sephora.com/productimages/sku/s2379139-main-Lhero.jpg</td>\n",
       "      <td>https://www.sephora.com/product/acqua-di-parma-rosa-nobile-shimmering-body-oil-P460441</td>\n",
       "    </tr>\n",
       "    <tr>\n",
       "      <td>...</td>\n",
       "      <td>...</td>\n",
       "      <td>...</td>\n",
       "      <td>...</td>\n",
       "      <td>...</td>\n",
       "      <td>...</td>\n",
       "      <td>...</td>\n",
       "      <td>...</td>\n",
       "      <td>...</td>\n",
       "      <td>...</td>\n",
       "    </tr>\n",
       "    <tr>\n",
       "      <td>8979</td>\n",
       "      <td>The 7 Virtues</td>\n",
       "      <td>P428712</td>\n",
       "      <td>2047710</td>\n",
       "      <td>Rose Amber Eau de Parfum Rollerball</td>\n",
       "      <td>29.0000</td>\n",
       "      <td>29.0000</td>\n",
       "      <td>4.4667</td>\n",
       "      <td>https://www.sephora.com/productimages/sku/s2047710-main-Lhero.jpg?pb=2020-03-sephora-clean-2019</td>\n",
       "      <td>https://www.sephora.com/product/rose-amber-eau-de-parfum-rollerball-P428712</td>\n",
       "    </tr>\n",
       "    <tr>\n",
       "      <td>8980</td>\n",
       "      <td>The 7 Virtues</td>\n",
       "      <td>P428716</td>\n",
       "      <td>2047702</td>\n",
       "      <td>Vetiver Elemi Eau de Parfum Rollerball</td>\n",
       "      <td>29.0000</td>\n",
       "      <td>29.0000</td>\n",
       "      <td>4.5789</td>\n",
       "      <td>https://www.sephora.com/productimages/sku/s2047702-main-Lhero.jpg?pb=2020-03-sephora-clean-2019</td>\n",
       "      <td>https://www.sephora.com/product/vetiver-elemi-eau-de-parfum-rollerball-P428716</td>\n",
       "    </tr>\n",
       "    <tr>\n",
       "      <td>8981</td>\n",
       "      <td>8Greens</td>\n",
       "      <td>P452918</td>\n",
       "      <td>2298891</td>\n",
       "      <td>8Greens Gummies Dietary Supplement</td>\n",
       "      <td>45.0000</td>\n",
       "      <td>45.0000</td>\n",
       "      <td>4.0000</td>\n",
       "      <td>https://www.sephora.com/productimages/sku/s2298891-main-Lhero.jpg</td>\n",
       "      <td>https://www.sephora.com/product/8greens-8greens-gummies-dietary-supplement-P452918</td>\n",
       "    </tr>\n",
       "    <tr>\n",
       "      <td>8982</td>\n",
       "      <td>8Greens</td>\n",
       "      <td>P437988</td>\n",
       "      <td>2162444</td>\n",
       "      <td>8G Dietary Supplement</td>\n",
       "      <td>14.0000</td>\n",
       "      <td>78.0000</td>\n",
       "      <td>4.4219</td>\n",
       "      <td>https://www.sephora.com/productimages/sku/s2162444-main-Lhero.jpg</td>\n",
       "      <td>https://www.sephora.com/product/8greens-dietary-supplement-P437988</td>\n",
       "    </tr>\n",
       "    <tr>\n",
       "      <td>8983</td>\n",
       "      <td>8Greens</td>\n",
       "      <td>P455912</td>\n",
       "      <td>2321461</td>\n",
       "      <td>8Greens Skin Tablet</td>\n",
       "      <td>16.0000</td>\n",
       "      <td>16.0000</td>\n",
       "      <td>3.8333</td>\n",
       "      <td>https://www.sephora.com/productimages/sku/s2321461-main-Lhero.jpg</td>\n",
       "      <td>https://www.sephora.com/product/8greens-8greens-skin-tablet-P455912</td>\n",
       "    </tr>\n",
       "  </tbody>\n",
       "</table>\n",
       "<p>8984 rows × 9 columns</p>\n",
       "</div>"
      ],
      "text/plain": [
       "          brand_name product_id product_sku  \\\n",
       "0     Acqua di Parma  P460442    2377984      \n",
       "1     Acqua di Parma  P443401    2218774      \n",
       "2     Acqua di Parma  P307801    1417609      \n",
       "3     Acqua di Parma  P307804    1417617      \n",
       "4     Acqua di Parma  P460441    2379139      \n",
       "...              ...      ...        ...      \n",
       "8979  The 7 Virtues   P428712    2047710      \n",
       "8980  The 7 Virtues   P428716    2047702      \n",
       "8981  8Greens         P452918    2298891      \n",
       "8982  8Greens         P437988    2162444      \n",
       "8983  8Greens         P455912    2321461      \n",
       "\n",
       "                                product_name  product_price_low  \\\n",
       "0     LA DOUBLE J Blu Mediterraneo Mini Set  66.0000              \n",
       "1     Blu Mediterraneo MINIATURE Set         66.0000              \n",
       "2     Fico di Amalfi                         30.0000              \n",
       "3     Mirto di Panarea                       30.0000              \n",
       "4     Rosa Nobile Shimmering Body Oil        87.0000              \n",
       "...                               ...            ...              \n",
       "8979  Rose Amber Eau de Parfum Rollerball    29.0000              \n",
       "8980  Vetiver Elemi Eau de Parfum Rollerball 29.0000              \n",
       "8981  8Greens Gummies Dietary Supplement     45.0000              \n",
       "8982  8G Dietary Supplement                  14.0000              \n",
       "8983  8Greens Skin Tablet                    16.0000              \n",
       "\n",
       "      product_price_high  product_rating  \\\n",
       "0    66.0000             5.0000            \n",
       "1    66.0000             4.2000            \n",
       "2    180.0000            4.5610            \n",
       "3    180.0000            4.6800            \n",
       "4    87.0000             5.0000            \n",
       "...      ...                ...            \n",
       "8979 29.0000             4.4667            \n",
       "8980 29.0000             4.5789            \n",
       "8981 45.0000             4.0000            \n",
       "8982 78.0000             4.4219            \n",
       "8983 16.0000             3.8333            \n",
       "\n",
       "                                                                                        product_image  \\\n",
       "0     https://www.sephora.com/productimages/sku/s2377984-main-Lhero.jpg                                 \n",
       "1     https://www.sephora.com/productimages/sku/s2218774-main-Lhero.jpg                                 \n",
       "2     https://www.sephora.com/productimages/sku/s1417609-main-Lhero.jpg                                 \n",
       "3     https://www.sephora.com/productimages/sku/s1417617-main-Lhero.jpg                                 \n",
       "4     https://www.sephora.com/productimages/sku/s2379139-main-Lhero.jpg                                 \n",
       "...                                                                 ...                                 \n",
       "8979  https://www.sephora.com/productimages/sku/s2047710-main-Lhero.jpg?pb=2020-03-sephora-clean-2019   \n",
       "8980  https://www.sephora.com/productimages/sku/s2047702-main-Lhero.jpg?pb=2020-03-sephora-clean-2019   \n",
       "8981  https://www.sephora.com/productimages/sku/s2298891-main-Lhero.jpg                                 \n",
       "8982  https://www.sephora.com/productimages/sku/s2162444-main-Lhero.jpg                                 \n",
       "8983  https://www.sephora.com/productimages/sku/s2321461-main-Lhero.jpg                                 \n",
       "\n",
       "                                                                                   product_link  \n",
       "0     https://www.sephora.com/product/acqua-di-parma-double-j-blu-mediterraneo-mini-set-P460442  \n",
       "1     https://www.sephora.com/product/blu-mediterraneo-minature-set-P443401                      \n",
       "2     https://www.sephora.com/product/blu-mediterraneo-fico-di-amalfi-P307801                    \n",
       "3     https://www.sephora.com/product/blu-mediterraneo-mirto-di-panarea-P307804                  \n",
       "4     https://www.sephora.com/product/acqua-di-parma-rosa-nobile-shimmering-body-oil-P460441     \n",
       "...                                                                                      ...     \n",
       "8979  https://www.sephora.com/product/rose-amber-eau-de-parfum-rollerball-P428712                \n",
       "8980  https://www.sephora.com/product/vetiver-elemi-eau-de-parfum-rollerball-P428716             \n",
       "8981  https://www.sephora.com/product/8greens-8greens-gummies-dietary-supplement-P452918         \n",
       "8982  https://www.sephora.com/product/8greens-dietary-supplement-P437988                         \n",
       "8983  https://www.sephora.com/product/8greens-8greens-skin-tablet-P455912                        \n",
       "\n",
       "[8984 rows x 9 columns]"
      ]
     },
     "execution_count": 10,
     "metadata": {},
     "output_type": "execute_result"
    }
   ],
   "source": [
    "df_products"
   ]
  },
  {
   "cell_type": "code",
   "execution_count": null,
   "metadata": {},
   "outputs": [],
   "source": [
    "# product = scrape.Sephora()\n",
    "\n",
    "# product_links = zip(df_products.product_id.values[:5], df_products.product_link.values[:5])\n",
    "\n",
    "# for id_, url in tqdm(product_links):\n",
    "\n",
    "#     product.open_url(url)  # open url\n",
    "#     product.get_product_info(id_, json_folder)\n",
    "#     sleep(2)\n",
    "\n",
    "# product.browser.quit()\n",
    "\n",
    "# del product, product_links"
   ]
  },
  {
   "cell_type": "code",
   "execution_count": 105,
   "metadata": {},
   "outputs": [],
   "source": [
    "downloaded_json = [file for file in os.listdir(json_folder) if file.endswith(\".json\")]\n",
    "downloaded_json.sort()"
   ]
  },
  {
   "cell_type": "code",
   "execution_count": null,
   "metadata": {},
   "outputs": [],
   "source": []
  },
  {
   "cell_type": "markdown",
   "metadata": {},
   "source": [
    "# Product Categories & List"
   ]
  },
  {
   "cell_type": "code",
   "execution_count": 142,
   "metadata": {},
   "outputs": [],
   "source": [
    "categories_urls = [\n",
    "    \"https://www.sephora.com/beauty/new-beauty-products\",\n",
    "    \"https://www.sephora.com/shop/gifts-for-her\",\n",
    "    \"https://www.sephora.com/shop/gifts-for-men\",\n",
    "    \"https://www.sephora.com/shop/gifts-for-them\",\n",
    "    \"https://www.sephora.com/shop/gifts-for-teenage-girls\",\n",
    "    \"https://www.sephora.com/shop/gift-sets-for-men\",\n",
    "    \"https://www.sephora.com/shop/travel-size-toiletries\",\n",
    "    \"https://www.sephora.com/shop/value-sets\",\n",
    "    \"https://www.sephora.com/shop/editors-picks-gifts?\",\n",
    "    \"https://www.sephora.com/shop/luxury-gifts\",\n",
    "    \"https://www.sephora.com/shop/exclusive-products\",\n",
    "    \"https://www.sephora.com/shop/mens-perfume\",\n",
    "    \"https://www.sephora.com/shop/mens-facial-products\",\n",
    "    \"https://www.sephora.com/shop/mens-grooming\",\n",
    "    \"https://www.sephora.com/shop/mens-hair-care\",\n",
    "    \"https://www.sephora.com/shop/mens-personal-care\",\n",
    "    \"https://www.sephora.com/beauty/new-cologne-for-men\",\n",
    "    \"https://www.sephora.com/beauty/best-selling-mens-products\"\n",
    "]"
   ]
  },
  {
   "cell_type": "code",
   "execution_count": 149,
   "metadata": {},
   "outputs": [],
   "source": [
    "categories_name = [\n",
    "    \"just_arrived\", \"gifts_her\", \"gifts_men\", \"gifts_them\", \"gifts_teens\",\n",
    "    \"gift_sets_men\", \"travel_size\", \"gift_sets\", \"editors_picks\",\n",
    "    \"luxury_gifts\", \"sephora_exclusives\", \"perfume_men\", \"facial_men\",\n",
    "    \"grooming_men\", \"hair_men\", \"personal_care_men\", \"just_arrived_men\", \"best_seller_men\"\n",
    "]"
   ]
  },
  {
   "cell_type": "code",
   "execution_count": 157,
   "metadata": {},
   "outputs": [
    {
     "name": "stderr",
     "output_type": "stream",
     "text": [
      "[autoreload of sephora_scrape failed: Traceback (most recent call last):\n",
      "  File \"/Applications/anaconda3/envs/learn-env/lib/python3.6/site-packages/IPython/extensions/autoreload.py\", line 245, in check\n",
      "    superreload(m, reload, self.old_objects)\n",
      "  File \"/Applications/anaconda3/envs/learn-env/lib/python3.6/site-packages/IPython/extensions/autoreload.py\", line 450, in superreload\n",
      "    update_generic(old_obj, new_obj)\n",
      "  File \"/Applications/anaconda3/envs/learn-env/lib/python3.6/site-packages/IPython/extensions/autoreload.py\", line 387, in update_generic\n",
      "    update(a, b)\n",
      "  File \"/Applications/anaconda3/envs/learn-env/lib/python3.6/site-packages/IPython/extensions/autoreload.py\", line 357, in update_class\n",
      "    update_instances(old, new)\n",
      "  File \"/Applications/anaconda3/envs/learn-env/lib/python3.6/site-packages/IPython/extensions/autoreload.py\", line 312, in update_instances\n",
      "    update_instances(old, new, obj.__dict__, visited)\n",
      "  File \"/Applications/anaconda3/envs/learn-env/lib/python3.6/site-packages/IPython/extensions/autoreload.py\", line 312, in update_instances\n",
      "    update_instances(old, new, obj.__dict__, visited)\n",
      "  File \"/Applications/anaconda3/envs/learn-env/lib/python3.6/site-packages/IPython/extensions/autoreload.py\", line 317, in update_instances\n",
      "    update_instances(old, new, obj, visited)\n",
      "  File \"/Applications/anaconda3/envs/learn-env/lib/python3.6/site-packages/IPython/extensions/autoreload.py\", line 312, in update_instances\n",
      "    update_instances(old, new, obj.__dict__, visited)\n",
      "  File \"/Applications/anaconda3/envs/learn-env/lib/python3.6/site-packages/IPython/extensions/autoreload.py\", line 317, in update_instances\n",
      "    update_instances(old, new, obj, visited)\n",
      "  File \"/Applications/anaconda3/envs/learn-env/lib/python3.6/site-packages/IPython/extensions/autoreload.py\", line 312, in update_instances\n",
      "    update_instances(old, new, obj.__dict__, visited)\n",
      "RecursionError: maximum recursion depth exceeded while calling a Python object\n",
      "]\n"
     ]
    },
    {
     "data": {
      "application/vnd.jupyter.widget-view+json": {
       "model_id": "0059072cde504490856dc3b19b0c2ab2",
       "version_major": 2,
       "version_minor": 0
      },
      "text/plain": [
       "HBox(children=(IntProgress(value=1, bar_style='info', max=1), HTML(value='')))"
      ]
     },
     "metadata": {},
     "output_type": "display_data"
    },
    {
     "name": "stdout",
     "output_type": "stream",
     "text": [
      "\n"
     ]
    }
   ],
   "source": [
    "categories = {}\n",
    "\n",
    "category = scrape.Sephora()\n",
    "\n",
    "for url, cat in tqdm(zip(categories_urls, categories_name)):\n",
    "    \n",
    "    products = []\n",
    "    \n",
    "    for page in range(1, 10):\n",
    "\n",
    "        if page == 1:\n",
    "            full_url = url + \"?pageSize=300\"\n",
    "        else:\n",
    "            full_url = url + \"?pageSize=300&currentPage=\" + str(page)\n",
    "\n",
    "        category.open_url(full_url)  # open url\n",
    "        category.get_productsJSON()  # get products from text/json\n",
    "        if len(category.product_list) == 0:\n",
    "            # if get_productsJSON() returns None then get products class a's\n",
    "            category.get_productsHTML()  \n",
    "        \n",
    "        products.extend([i[\"product_id\"] for i in category.product_list])\n",
    "        \n",
    "        if len(category.product_list) < 300:\n",
    "            # if current page has less than 300 items, then go to next brand\n",
    "            break\n",
    "        else:\n",
    "            # otherwise go to next page\n",
    "            continue\n",
    "\n",
    "    categories[cat] = products\n",
    "    with open(\"categories.json\", \"w\") as outfile:\n",
    "        json.dump(categories, outfile, indent=2)\n",
    "    \n",
    "category.browser.quit()\n",
    "\n",
    "del category"
   ]
  },
  {
   "cell_type": "markdown",
   "metadata": {},
   "source": [
    "# Product Stats & Reviews"
   ]
  },
  {
   "cell_type": "code",
   "execution_count": null,
   "metadata": {},
   "outputs": [],
   "source": [
    "reviews_folder = \"/Users/valmadrid/DataScienceBootcamp/Projects/Gift Recommendation/Gift-Recommendation/web_scraping/reviews/\"\n",
    "if not os.path.exists(reviews_folder):\n",
    "    os.mkdir(reviews_folder)\n",
    "    "
   ]
  },
  {
   "cell_type": "code",
   "execution_count": null,
   "metadata": {},
   "outputs": [],
   "source": [
    "reviews = scrape.Sephora()\n",
    "\n",
    "product_ids = df_products.product_id.unique()\n",
    "\n",
    "for id_ in tqdm(product_ids):\n",
    "    reviews.get_reviews(id_, reviews_folder)\n",
    "\n",
    "reviews.browser.quit()\n",
    "\n",
    "del reviews, product_ids"
   ]
  },
  {
   "cell_type": "code",
   "execution_count": 12,
   "metadata": {},
   "outputs": [
    {
     "data": {
      "text/plain": [
       "'/Users/valmadrid/DataScienceBootcamp/Projects/Gift Recommendation/Gift-Recommendation/web_scraping'"
      ]
     },
     "execution_count": 12,
     "metadata": {},
     "output_type": "execute_result"
    }
   ],
   "source": [
    "pwd"
   ]
  },
  {
   "cell_type": "code",
   "execution_count": 13,
   "metadata": {},
   "outputs": [
    {
     "data": {
      "text/plain": [
       "(9300, 7)"
      ]
     },
     "execution_count": 13,
     "metadata": {},
     "output_type": "execute_result"
    }
   ],
   "source": [
    "df = pd.read_csv(\"/Users/valmadrid/DataScienceBootcamp/Projects/Gift Recommendation/Gift-Recommendation/final_products.csv\")\n",
    "df.shape"
   ]
  },
  {
   "cell_type": "code",
   "execution_count": 16,
   "metadata": {},
   "outputs": [
    {
     "data": {
      "text/plain": [
       "['P457843',\n",
       " 'P395205',\n",
       " 'P451668',\n",
       " 'P388509',\n",
       " 'P393847',\n",
       " 'P396312',\n",
       " 'P396310',\n",
       " 'P388507',\n",
       " 'P393849',\n",
       " 'P428827',\n",
       " 'P377672',\n",
       " 'P305801',\n",
       " 'P420409',\n",
       " 'P447585',\n",
       " 'P456362',\n",
       " 'P449348',\n",
       " 'P433475',\n",
       " 'P396821',\n",
       " 'P400888',\n",
       " 'P445416',\n",
       " 'P401774',\n",
       " 'P424981',\n",
       " 'P428818',\n",
       " 'P388629',\n",
       " 'P456330',\n",
       " 'P454933',\n",
       " 'P453807',\n",
       " 'P456430',\n",
       " 'P453926',\n",
       " 'P457688',\n",
       " 'P455621',\n",
       " 'P457690',\n",
       " 'P457691',\n",
       " 'P457689',\n",
       " 'P394579',\n",
       " 'P413261',\n",
       " 'P381209',\n",
       " 'P459405',\n",
       " 'P427396',\n",
       " 'P450079',\n",
       " 'P434354',\n",
       " 'P456561',\n",
       " 'P429538',\n",
       " 'P407189',\n",
       " 'P385669',\n",
       " 'P397883',\n",
       " 'P422690',\n",
       " 'P410768',\n",
       " 'P412366',\n",
       " 'P442553',\n",
       " 'P435420',\n",
       " 'P433808',\n",
       " 'P446941',\n",
       " 'P454540',\n",
       " 'P436153',\n",
       " 'P424946',\n",
       " 'P384404',\n",
       " 'P455015',\n",
       " 'P442556',\n",
       " 'P446355',\n",
       " 'P442777',\n",
       " 'P398803',\n",
       " 'P392352',\n",
       " 'P439432',\n",
       " 'P449154',\n",
       " 'P409044',\n",
       " 'P451615',\n",
       " 'P450869',\n",
       " 'P440450',\n",
       " 'P404931',\n",
       " 'P392351',\n",
       " 'P427901',\n",
       " 'P435937',\n",
       " 'P405436',\n",
       " 'P437636',\n",
       " 'P457847',\n",
       " 'P458228',\n",
       " 'P429927',\n",
       " 'P432658',\n",
       " 'P449598',\n",
       " 'P451138',\n",
       " 'P452734',\n",
       " 'P450086',\n",
       " 'P442743',\n",
       " 'P386377',\n",
       " 'P376180',\n",
       " 'P417336',\n",
       " 'P458633',\n",
       " 'P456201',\n",
       " 'P398120',\n",
       " 'P457492',\n",
       " 'P440679',\n",
       " 'P440688',\n",
       " 'P439675',\n",
       " 'P437003',\n",
       " 'P450135',\n",
       " 'P313023',\n",
       " 'P450134',\n",
       " 'P447149',\n",
       " 'P398345',\n",
       " 'P310307',\n",
       " 'P405525',\n",
       " 'P415308',\n",
       " 'P446112',\n",
       " 'P444619',\n",
       " 'P432258',\n",
       " 'P454791',\n",
       " 'P440920',\n",
       " 'P416586',\n",
       " 'P460019',\n",
       " 'P417149',\n",
       " 'P394805',\n",
       " 'P410736',\n",
       " 'P442992',\n",
       " 'P453919',\n",
       " 'P416368',\n",
       " 'P415985',\n",
       " 'P451943',\n",
       " 'P439068',\n",
       " 'P448205',\n",
       " 'P456962',\n",
       " 'P432631',\n",
       " 'P407107']"
      ]
     },
     "execution_count": 16,
     "metadata": {},
     "output_type": "execute_result"
    }
   ],
   "source": [
    "ids = list(df.product_ref.unique())\n",
    "ids = [id_ for id_ in ids if id_ not in df_products.product_id.unique()]\n",
    "ids"
   ]
  },
  {
   "cell_type": "code",
   "execution_count": 17,
   "metadata": {},
   "outputs": [
    {
     "data": {
      "text/plain": [
       "123"
      ]
     },
     "execution_count": 17,
     "metadata": {},
     "output_type": "execute_result"
    }
   ],
   "source": [
    "len(ids)"
   ]
  },
  {
   "cell_type": "code",
   "execution_count": 18,
   "metadata": {},
   "outputs": [
    {
     "data": {
      "text/plain": [
       "['P460780',\n",
       " 'P459233',\n",
       " 'P457651',\n",
       " 'P460563',\n",
       " 'P457882',\n",
       " 'P225362',\n",
       " 'P457885',\n",
       " 'P457886',\n",
       " 'P460779',\n",
       " 'P460566',\n",
       " 'P460852',\n",
       " 'P460851',\n",
       " 'P460569',\n",
       " 'P460847',\n",
       " 'P460848',\n",
       " 'P460567',\n",
       " 'P460849',\n",
       " 'P460850',\n",
       " 'P460568',\n",
       " 'P460565',\n",
       " 'P404736',\n",
       " 'P446867',\n",
       " 'P433013',\n",
       " 'P460557',\n",
       " 'P460742',\n",
       " 'P460740',\n",
       " 'P460739',\n",
       " 'P460560',\n",
       " 'P458584',\n",
       " 'P458583',\n",
       " 'P436642',\n",
       " 'P460515',\n",
       " 'P421720',\n",
       " 'P421719',\n",
       " 'P460732',\n",
       " 'P461800',\n",
       " 'P459503',\n",
       " 'P459505',\n",
       " 'P458787',\n",
       " 'P458790',\n",
       " 'P9214873437',\n",
       " 'P460743',\n",
       " 'P440264',\n",
       " 'P428119',\n",
       " 'P460511',\n",
       " 'P384507',\n",
       " 'P460510',\n",
       " 'P421285',\n",
       " 'P459502',\n",
       " 'P460728',\n",
       " 'P460514',\n",
       " 'P460513',\n",
       " 'P425931',\n",
       " 'P425932',\n",
       " 'P380676',\n",
       " 'P380677',\n",
       " 'P442776',\n",
       " 'P460730',\n",
       " 'P460731',\n",
       " 'P460729',\n",
       " 'P459150',\n",
       " 'P405108',\n",
       " 'P460738',\n",
       " 'P411830',\n",
       " 'P389051',\n",
       " 'P459011',\n",
       " 'P460509',\n",
       " 'P459838',\n",
       " 'P419283',\n",
       " 'P419284',\n",
       " 'P418015',\n",
       " 'P460784',\n",
       " 'P459261',\n",
       " 'P427610',\n",
       " 'P414705',\n",
       " 'P432085',\n",
       " 'P428692',\n",
       " 'P460717',\n",
       " 'P414234',\n",
       " 'P439907',\n",
       " 'P460716',\n",
       " 'P460719',\n",
       " 'P410146',\n",
       " 'P460723',\n",
       " 'P460554',\n",
       " 'P458733',\n",
       " 'P458726',\n",
       " 'P430861',\n",
       " 'P460724',\n",
       " 'P445725',\n",
       " 'P446622',\n",
       " 'P458732',\n",
       " 'P458727',\n",
       " 'P405535',\n",
       " 'P459818',\n",
       " 'P384790',\n",
       " 'P397480',\n",
       " 'P420406',\n",
       " 'P440955',\n",
       " 'P438932',\n",
       " 'P433482',\n",
       " 'P416376',\n",
       " 'P436254',\n",
       " 'P452943',\n",
       " 'P460561',\n",
       " 'P460733',\n",
       " 'P460736']"
      ]
     },
     "execution_count": 18,
     "metadata": {},
     "output_type": "execute_result"
    }
   ],
   "source": [
    "ids2 = list(df_products.product_id.unique())\n",
    "ids2 = [id_ for id_ in ids2 if id_ not in df.product_ref.unique()]\n",
    "ids2"
   ]
  },
  {
   "cell_type": "code",
   "execution_count": 19,
   "metadata": {},
   "outputs": [
    {
     "data": {
      "text/plain": [
       "107"
      ]
     },
     "execution_count": 19,
     "metadata": {},
     "output_type": "execute_result"
    }
   ],
   "source": [
    "len(ids2)"
   ]
  },
  {
   "cell_type": "code",
   "execution_count": null,
   "metadata": {},
   "outputs": [],
   "source": []
  }
 ],
 "metadata": {
  "kernelspec": {
   "display_name": "Python [conda env:learn-env] *",
   "language": "python",
   "name": "conda-env-learn-env-py"
  },
  "language_info": {
   "codemirror_mode": {
    "name": "ipython",
    "version": 3
   },
   "file_extension": ".py",
   "mimetype": "text/x-python",
   "name": "python",
   "nbconvert_exporter": "python",
   "pygments_lexer": "ipython3",
   "version": "3.6.9"
  },
  "toc": {
   "base_numbering": 1,
   "nav_menu": {},
   "number_sections": true,
   "sideBar": true,
   "skip_h1_title": false,
   "title_cell": "Table of Contents",
   "title_sidebar": "Contents",
   "toc_cell": false,
   "toc_position": {},
   "toc_section_display": true,
   "toc_window_display": false
  },
  "varInspector": {
   "cols": {
    "lenName": 16,
    "lenType": 16,
    "lenVar": 40
   },
   "kernels_config": {
    "python": {
     "delete_cmd_postfix": "",
     "delete_cmd_prefix": "del ",
     "library": "var_list.py",
     "varRefreshCmd": "print(var_dic_list())"
    },
    "r": {
     "delete_cmd_postfix": ") ",
     "delete_cmd_prefix": "rm(",
     "library": "var_list.r",
     "varRefreshCmd": "cat(var_dic_list()) "
    }
   },
   "position": {
    "height": "482px",
    "left": "1327px",
    "right": "20px",
    "top": "138px",
    "width": "339px"
   },
   "types_to_exclude": [
    "module",
    "function",
    "builtin_function_or_method",
    "instance",
    "_Feature"
   ],
   "window_display": true
  }
 },
 "nbformat": 4,
 "nbformat_minor": 2
}
